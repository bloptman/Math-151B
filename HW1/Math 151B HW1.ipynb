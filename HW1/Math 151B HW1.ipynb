{
 "cells": [
  {
   "cell_type": "markdown",
   "metadata": {},
   "source": [
    "# Math 151B Homework No. 1 (Programming Portion)"
   ]
  },
  {
   "cell_type": "markdown",
   "metadata": {},
   "source": [
    "## Sec. 5.2 : Euler's Method"
   ]
  },
  {
   "cell_type": "code",
   "execution_count": 2,
   "metadata": {},
   "outputs": [],
   "source": [
    "import numpy as np\n",
    "import matplotlib.pyplot as plt\n",
    "plt.style.use(\"ggplot\")"
   ]
  },
  {
   "cell_type": "code",
   "execution_count": 1,
   "metadata": {},
   "outputs": [],
   "source": [
    "def Euler(f,t_0,y_0,h,N):\n",
    "    \"\"\"\n",
    "    \"\"\"\n",
    "    T = np.array([t_0 + n * h for n in range(N + 1)])\n",
    "    Y = np.zeros(N+1)\n",
    "    \n",
    "    Y[0]= y_0\n",
    "    \n",
    "    for n in range(N):\n",
    "        Y[n + 1] = Y[n] + h * f(T[n], Y[n])\n",
    "        \n",
    "    return T,Y"
   ]
  },
  {
   "cell_type": "markdown",
   "metadata": {},
   "source": [
    "### 1.) (a)"
   ]
  },
  {
   "cell_type": "code",
   "execution_count": 74,
   "metadata": {},
   "outputs": [],
   "source": [
    "def f_1(t,y):\n",
    "    return t*np.exp(3*t)-2*y"
   ]
  },
  {
   "cell_type": "code",
   "execution_count": 75,
   "metadata": {},
   "outputs": [
    {
     "name": "stdout",
     "output_type": "stream",
     "text": [
      "[0.  0.5 1. ]\n",
      "[0.         0.         1.12042227]\n"
     ]
    }
   ],
   "source": [
    "T,Y = Euler(f_1,t_0=0,y_0=0,h=.5,N=2)\n",
    "\n",
    "print(T)\n",
    "print(Y)"
   ]
  },
  {
   "cell_type": "code",
   "execution_count": 76,
   "metadata": {},
   "outputs": [
    {
     "data": {
      "image/png": "[encoded data removed]",
      "text/plain": [
       "<Figure size 432x288 with 1 Axes>"
      ]
     },
     "metadata": {
      "needs_background": "light"
     },
     "output_type": "display_data"
    }
   ],
   "source": [
    "plt.plot(T,Y)\n",
    "plt.show()"
   ]
  },
  {
   "cell_type": "markdown",
   "metadata": {},
   "source": [
    "### 3.) (a)"
   ]
  },
  {
   "cell_type": "code",
   "execution_count": 77,
   "metadata": {},
   "outputs": [],
   "source": [
    "def f1_exact_sol(t):\n",
    "    return (1/5)*t*np.exp(3*t) - (1/25)*np.exp(3*t) + (1/25)*np.exp(-2*t)"
   ]
  },
  {
   "cell_type": "code",
   "execution_count": 78,
   "metadata": {},
   "outputs": [
    {
     "name": "stdout",
     "output_type": "stream",
     "text": [
      "[0.         0.28361652 3.21909932]\n"
     ]
    }
   ],
   "source": [
    "#T_exact = np.linspace(0,1,10)\n",
    "Y_exact = f1_exact_sol(T)\n",
    "\n",
    "print(Y_exact)"
   ]
  },
  {
   "cell_type": "code",
   "execution_count": 79,
   "metadata": {},
   "outputs": [
    {
     "data": {
      "image/png": "[encoded data removed]",
      "text/plain": [
       "<Figure size 432x288 with 1 Axes>"
      ]
     },
     "metadata": {
      "needs_background": "light"
     },
     "output_type": "display_data"
    }
   ],
   "source": [
    "plt.plot(T,Y_exact)\n",
    "plt.plot(T,Y,\"--\")\n",
    "plt.show()"
   ]
  },
  {
   "cell_type": "markdown",
   "metadata": {},
   "source": [
    "The dashed line is the approximate solution!"
   ]
  },
  {
   "cell_type": "code",
   "execution_count": 80,
   "metadata": {},
   "outputs": [
    {
     "name": "stdout",
     "output_type": "stream",
     "text": [
      "[0.         0.28361652 2.09867705]\n"
     ]
    }
   ],
   "source": [
    "actual_err = np.abs(Y_exact - Y)\n",
    "\n",
    "print(actual_err)"
   ]
  },
  {
   "cell_type": "markdown",
   "metadata": {},
   "source": [
    "### 9.)"
   ]
  },
  {
   "cell_type": "markdown",
   "metadata": {},
   "source": [
    "### (a)"
   ]
  },
  {
   "cell_type": "code",
   "execution_count": 122,
   "metadata": {},
   "outputs": [],
   "source": [
    "def f9(t,y):\n",
    "    return (2/t)*y + (t**2)*np.exp(t)"
   ]
  },
  {
   "cell_type": "code",
   "execution_count": 123,
   "metadata": {},
   "outputs": [],
   "source": [
    "def f9_sol_exact(t):\n",
    "    return (t**2)*(np.exp(t)-np.exp(1))"
   ]
  },
  {
   "cell_type": "code",
   "execution_count": 124,
   "metadata": {},
   "outputs": [],
   "source": [
    "T,Y = Euler(f9,t_0=1,y_0=0,h=.1,N=10)\n",
    "\n",
    "Y_exact = f9_sol_exact(T)"
   ]
  },
  {
   "cell_type": "code",
   "execution_count": 125,
   "metadata": {},
   "outputs": [
    {
     "name": "stdout",
     "output_type": "stream",
     "text": [
      "[ 0.          0.27182818  0.68475558  1.27697834  2.09354769  3.18744512\n",
      "  4.62081785  6.46639638  8.80911969 11.74799654 15.39823565]\n"
     ]
    }
   ],
   "source": [
    "print(Y)"
   ]
  },
  {
   "cell_type": "code",
   "execution_count": 126,
   "metadata": {},
   "outputs": [
    {
     "name": "stdout",
     "output_type": "stream",
     "text": [
      "[ 0.          0.34591988  0.86664254  1.60721508  2.62035955  3.96766629\n",
      "  5.72096153  7.96387348 10.79362466 14.32308154 18.68309708]\n"
     ]
    }
   ],
   "source": [
    "print(Y_exact)"
   ]
  },
  {
   "cell_type": "code",
   "execution_count": 127,
   "metadata": {},
   "outputs": [
    {
     "name": "stdout",
     "output_type": "stream",
     "text": [
      "[0.         0.07409169 0.18188696 0.33023673 0.52681186 0.78022117\n",
      " 1.10014368 1.4974771  1.98450497 2.57508499 3.28486143]\n"
     ]
    }
   ],
   "source": [
    "actual_err = np.abs(Y_exact-Y)\n",
    "\n",
    "print(actual_err)"
   ]
  },
  {
   "cell_type": "code",
   "execution_count": 69,
   "metadata": {},
   "outputs": [
    {
     "data": {
      "image/png": "[encoded data removed]",
      "text/plain": [
       "<Figure size 432x288 with 1 Axes>"
      ]
     },
     "metadata": {
      "needs_background": "light"
     },
     "output_type": "display_data"
    }
   ],
   "source": [
    "plt.plot(T,Y,\"--\")\n",
    "plt.plot(T,Y_exact)\n",
    "plt.show()"
   ]
  },
  {
   "cell_type": "markdown",
   "metadata": {},
   "source": [
    "The dashed line is the approximate solution!"
   ]
  },
  {
   "cell_type": "markdown",
   "metadata": {},
   "source": [
    "## Sec. 5.3 Higher Order Taylor Methods"
   ]
  },
  {
   "cell_type": "markdown",
   "metadata": {},
   "source": [
    "### 1.) (a.)"
   ]
  },
  {
   "cell_type": "code",
   "execution_count": 92,
   "metadata": {},
   "outputs": [],
   "source": [
    "def Taylor_O2(f,f1,t_0,y_0,h,N):\n",
    "    \"\"\"\n",
    "    \"\"\"\n",
    "    T = np.array([t_0 + n * h for n in range(N + 1)])\n",
    "    Y = np.zeros(N+1)\n",
    "    \n",
    "    Y[0]= y_0\n",
    "    \n",
    "    for n in range(N):\n",
    "        Y[n + 1] = Y[n] + h * (f(T[n], Y[n]) + (h*.5)*(f1(T[n],Y[n])))\n",
    "        \n",
    "    return T,Y"
   ]
  },
  {
   "cell_type": "code",
   "execution_count": 98,
   "metadata": {},
   "outputs": [],
   "source": [
    "def f(t,y):\n",
    "    return t*np.exp(3*t) - 2*y\n",
    "\n",
    "def f_1(t,y):\n",
    "    return np.exp(3*t) + t*np.exp(3*t) + 4*y"
   ]
  },
  {
   "cell_type": "code",
   "execution_count": 99,
   "metadata": {},
   "outputs": [],
   "source": [
    "T,Y_O2 = Taylor_O2(f,f_1,t_0=0,y_0=0,h=.5,N=2)"
   ]
  },
  {
   "cell_type": "code",
   "execution_count": 100,
   "metadata": {},
   "outputs": [
    {
     "name": "stdout",
     "output_type": "stream",
     "text": [
      "[0.  0.5 1. ]\n",
      "[0.         0.125      2.02323897]\n"
     ]
    }
   ],
   "source": [
    "print(T)\n",
    "print(Y_O2)"
   ]
  },
  {
   "cell_type": "code",
   "execution_count": 101,
   "metadata": {},
   "outputs": [
    {
     "data": {
      "image/png": "[encoded data removed]",
      "text/plain": [
       "<Figure size 432x288 with 1 Axes>"
      ]
     },
     "metadata": {
      "needs_background": "light"
     },
     "output_type": "display_data"
    }
   ],
   "source": [
    "plt.plot(T,Y_O2)\n",
    "plt.show()"
   ]
  },
  {
   "cell_type": "markdown",
   "metadata": {},
   "source": [
    "### 3.) (a)"
   ]
  },
  {
   "cell_type": "code",
   "execution_count": 111,
   "metadata": {},
   "outputs": [],
   "source": [
    "def Taylor_O4(f,f1,f2,f3,t_0,y_0,h,N):\n",
    "    \"\"\"\n",
    "    \"\"\"\n",
    "    T = np.array([t_0 + n * h for n in range(N + 1)])\n",
    "    Y = np.zeros(N+1)\n",
    "    \n",
    "    Y[0]= y_0\n",
    "    \n",
    "    for n in range(N):\n",
    "        x1 = Y[n]\n",
    "        x2 = f(T[n],Y[n])\n",
    "        x3 = (.5*h)*f1(T[n],Y[n])\n",
    "        x4 = ((h**2)/6)*f2(T[n],Y[n])\n",
    "        x5 = ((h**3)/24)*f3(T[n],Y[n])\n",
    "        Y[n + 1] = x1 + h*(x2+x3+x4+x5)\n",
    "        \n",
    "    return T,Y"
   ]
  },
  {
   "cell_type": "code",
   "execution_count": 117,
   "metadata": {},
   "outputs": [],
   "source": [
    "def f_2(t,y):\n",
    "    return 4*np.exp(3*t) + 7*t*np.exp(3*t) - 8*y\n",
    "\n",
    "def f_3(t,y):\n",
    "    return 19*np.exp(3*t) + 13*t*np.exp(3*t) + 16*y"
   ]
  },
  {
   "cell_type": "code",
   "execution_count": 118,
   "metadata": {},
   "outputs": [],
   "source": [
    "T, Y_O4 = Taylor_O4(f,f_1,f_2,f_3,t_0=0,y_0=0,h=.5,N=2)"
   ]
  },
  {
   "cell_type": "code",
   "execution_count": 119,
   "metadata": {},
   "outputs": [
    {
     "name": "stdout",
     "output_type": "stream",
     "text": [
      "[0.  0.5 1. ]\n",
      "[0.         0.2578125  3.05529474]\n"
     ]
    }
   ],
   "source": [
    "print(T)\n",
    "print(Y_O4)"
   ]
  },
  {
   "cell_type": "code",
   "execution_count": 120,
   "metadata": {},
   "outputs": [
    {
     "data": {
      "image/png": "[encoded data removed]",
      "text/plain": [
       "<Figure size 432x288 with 1 Axes>"
      ]
     },
     "metadata": {
      "needs_background": "light"
     },
     "output_type": "display_data"
    }
   ],
   "source": [
    "plt.plot(T,Y_O4)\n",
    "plt.show()"
   ]
  }
 ],
 "metadata": {
  "kernelspec": {
   "display_name": "Python 3",
   "language": "python",
   "name": "python3"
  },
  "language_info": {
   "codemirror_mode": {
    "name": "ipython",
    "version": 3
   },
   "file_extension": ".py",
   "mimetype": "text/x-python",
   "name": "python",
   "nbconvert_exporter": "python",
   "pygments_lexer": "ipython3",
   "version": "3.7.7"
  }
 },
 "nbformat": 4,
 "nbformat_minor": 2
}
