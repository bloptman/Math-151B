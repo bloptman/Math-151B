{
 "cells": [
  {
   "cell_type": "markdown",
   "metadata": {},
   "source": [
    "# Math 151B Homework No. 3"
   ]
  },
  {
   "cell_type": "markdown",
   "metadata": {},
   "source": [
    "* Brandon Loptman  \n",
    "* UID: 604105043  \n",
    "* February 3, 2020"
   ]
  },
  {
   "cell_type": "code",
   "execution_count": 104,
   "metadata": {},
   "outputs": [],
   "source": [
    "import numpy as np\n",
    "import matplotlib.pyplot as plt\n",
    "plt.style.use(\"ggplot\")"
   ]
  },
  {
   "cell_type": "markdown",
   "metadata": {},
   "source": [
    "## Section 5.5 \n",
    "\n",
    "Below we implement the Runge-Kutta-Felhberg method. It will be used to approximate solutions to ODEs in the following problems."
   ]
  },
  {
   "cell_type": "code",
   "execution_count": 86,
   "metadata": {},
   "outputs": [],
   "source": [
    "def RKF(f, a, b, y_0, tol, h_max, h_min):\n",
    "    \"\"\"\n",
    "    \"\"\"\n",
    "    t = a\n",
    "    w = y_0\n",
    "    h = h_max\n",
    "    flag = 1\n",
    "    d = 0\n",
    "    \n",
    "    T = np.array([t])\n",
    "    Y = np.array([w])\n",
    "    H = np.array([h])\n",
    "    \n",
    "    #print(T)\n",
    "    #print(Y)\n",
    "    #print(H)\n",
    "    \n",
    "    while flag == 1:\n",
    "        k1 = h*f(t,w)\n",
    "        k2 = h*f(t + .25*h, w + .25*k1)\n",
    "        k3 = h*f(t + (3/8)*h, w + (3/32)*k1 + (9/32)*k2)\n",
    "        k4 = h*f(t + (12/13)*h, w + (1932/2197)*k1 - (7200/2197)*k2 + (7296/2197)*k3)\n",
    "        k5 = h*f(t + h, w + (439/216)*k1 - 8*k2 + (3680/513)*k3 - (845/4104)*k4)\n",
    "        k6 = h*f(t + .5*h, w - (8/27)*k1 + 2*k2 - (3544/2565)*k3 + (1859/4104)*k4 - (11/40)*k5)\n",
    "        \n",
    "        R = (1/h)*np.abs((1/360)*k1 - (128/4275)*k3 - (2197/75240)*k4 + (1/50)*k5 + (2/55)*k6)\n",
    "        \n",
    "        #print(\"R = \", R)\n",
    "        \n",
    "        if R <= tol:\n",
    "            t = t + h\n",
    "            w = w + (25/216)*k1 + (1408/2565)*k3 + (2197/4104)*k4 - (1/5)*k5\n",
    "            \n",
    "            T = np.append(T,t)\n",
    "            Y = np.append(Y,w)\n",
    "            H = np.append(H,h)\n",
    "            \n",
    "            #print(\"appended arrays\")\n",
    "        \n",
    "        d = .84*(tol/R)**.25\n",
    "        #print(\"d = \", d)\n",
    "        \n",
    "        if d <= .1:\n",
    "            h = .1*h\n",
    "        \n",
    "        elif d >= 4:\n",
    "            h = 4*h\n",
    "        \n",
    "        else:\n",
    "            h = d*h\n",
    "            \n",
    "        if h > h_max:\n",
    "            h = h_max\n",
    "            \n",
    "        if t >= b:\n",
    "            flag = 0\n",
    "        \n",
    "        elif t + h > b:\n",
    "            h = b - t \n",
    "        \n",
    "        elif h < h_min:\n",
    "            flag = 0\n",
    "            print(\"minimum h exceeded!\")\n",
    "    \n",
    "    #print(\"done!\")\n",
    "    \n",
    "    return T, Y, H "
   ]
  },
  {
   "cell_type": "markdown",
   "metadata": {},
   "source": [
    "## 1.) (a)"
   ]
  },
  {
   "cell_type": "code",
   "execution_count": 133,
   "metadata": {},
   "outputs": [],
   "source": [
    "def f1(t,y):\n",
    "    return t*np.exp(3*t) - 2*y\n",
    "\n",
    "def f1_exact(t):\n",
    "    return (1/5)*t*np.exp(3*t) - (1/25)*np.exp(3*t) + (1/25)*np.exp(-2*t)"
   ]
  },
  {
   "cell_type": "code",
   "execution_count": 134,
   "metadata": {},
   "outputs": [],
   "source": [
    "T,Y,H = RKF(f1,a = 0, b = 1, y_0 = 0, tol = 10**-4, h_max = .25, h_min = .05)"
   ]
  },
  {
   "cell_type": "code",
   "execution_count": 135,
   "metadata": {},
   "outputs": [
    {
     "name": "stdout",
     "output_type": "stream",
     "text": [
      "t vals: \n",
      " [0.         0.20939    0.38329721 0.56104685 0.71068396 0.83877443\n",
      " 0.95132633 1.        ] \n",
      "\n",
      "w vals: \n",
      "  [0.         0.02981836 0.13432603 0.40164379 0.87083725 1.58940614\n",
      " 2.61402262 3.21904974] \n",
      "\n",
      "h vals: \n",
      "  [0.25       0.20939    0.17390722 0.17774964 0.1496371  0.12809048\n",
      " 0.1125519  0.04867367] \n",
      "\n"
     ]
    }
   ],
   "source": [
    "print(\"t vals: \\n\", T, \"\\n\")\n",
    "print(\"w vals: \\n \", Y, \"\\n\")\n",
    "print(\"h vals: \\n \", H, \"\\n\")"
   ]
  },
  {
   "cell_type": "code",
   "execution_count": 136,
   "metadata": {},
   "outputs": [
    {
     "name": "stdout",
     "output_type": "stream",
     "text": [
      "y vals: \n",
      " [0.         0.02983366 0.13434875 0.40168601 0.87088816 1.58946002\n",
      " 2.61407705 3.21909932] \n",
      "\n"
     ]
    }
   ],
   "source": [
    "Y_exact = f1_exact(T)\n",
    "print(\"y vals: \\n\", Y_exact, \"\\n\")"
   ]
  },
  {
   "cell_type": "code",
   "execution_count": 137,
   "metadata": {},
   "outputs": [
    {
     "data": {
      "image/png": "[encoded data removed]",
      "text/plain": [
       "<Figure size 432x288 with 1 Axes>"
      ]
     },
     "metadata": {},
     "output_type": "display_data"
    }
   ],
   "source": [
    "plt.plot(T,Y,label=\"approximation\")\n",
    "plt.plot(T,Y_exact,label = \"exact\",linestyle=\"--\")\n",
    "\n",
    "plt.legend()\n",
    "plt.show()"
   ]
  },
  {
   "cell_type": "markdown",
   "metadata": {},
   "source": [
    "## 2.) (a)"
   ]
  },
  {
   "cell_type": "code",
   "execution_count": 92,
   "metadata": {},
   "outputs": [],
   "source": [
    "def f2(t,y):\n",
    "    return (y/t)**2 + (y/t)"
   ]
  },
  {
   "cell_type": "code",
   "execution_count": 93,
   "metadata": {},
   "outputs": [],
   "source": [
    "T,Y,H = RKF(f2,a = 1, b = 1.2, y_0 = 1, tol = 10**-4, h_max = .05, h_min = .02)"
   ]
  },
  {
   "cell_type": "code",
   "execution_count": 94,
   "metadata": {},
   "outputs": [
    {
     "name": "stdout",
     "output_type": "stream",
     "text": [
      "t vals: \n",
      " [1.   1.05 1.1  1.15 1.2 ] \n",
      "\n",
      "w vals: \n",
      "  [1.         1.10385741 1.2158864  1.33683935 1.46756971] \n",
      "\n",
      "h vals: \n",
      "  [0.05 0.05 0.05 0.05 0.05] \n",
      "\n"
     ]
    }
   ],
   "source": [
    "print(\"t vals: \\n\", T, \"\\n\")\n",
    "print(\"w vals: \\n \", Y, \"\\n\")\n",
    "print(\"h vals: \\n \", H, \"\\n\")"
   ]
  },
  {
   "cell_type": "code",
   "execution_count": 95,
   "metadata": {},
   "outputs": [
    {
     "data": {
      "image/png": "[encoded data removed]",
      "text/plain": [
       "<Figure size 432x288 with 1 Axes>"
      ]
     },
     "metadata": {},
     "output_type": "display_data"
    }
   ],
   "source": [
    "plt.plot(T,Y)\n",
    "plt.show()"
   ]
  },
  {
   "cell_type": "markdown",
   "metadata": {},
   "source": [
    "## Section 5.6\n",
    "\n",
    "Below we implement the Adams Fourth-Order Predictor-Corrector method. It is used to approximate the solutions to ODEs in the following problem."
   ]
  },
  {
   "cell_type": "code",
   "execution_count": 112,
   "metadata": {},
   "outputs": [],
   "source": [
    "def AB_Predictor_Corrector(f, a, b, y_0, N):    \n",
    "    h = (b-a)/N          \n",
    "    \n",
    "    #t = np.arange(a, b+h, h) \n",
    "    t = np.array([a + n * h for n in range(N + 1)])\n",
    "    \n",
    "    y = np.zeros((N+1,)) \n",
    "    \n",
    "    y[0] = y_0         \n",
    "\n",
    "    for i in range(0,N):\n",
    "        if i in range(0,3):\n",
    "            k1 = h * f(t[i],y[i])\n",
    "            k2 = h * f(t[i] + (h/2.0), y[i] +(k1/2.0))\n",
    "            k3 = h * f(t[i] + (h/2.0), y[i] + (k2/2.0))\n",
    "            k4 = h * f(t[i] + h, y[i] + k3)\n",
    "        \n",
    "            y[i + 1] = y[i] + (k1 + 2.0*k2 + 2.0*k3 + k4)/6.0\n",
    "            \n",
    "        else:\n",
    "            \n",
    "             y[i + 1] = y[i] + h*(55.0 * f(t[i],y[i]) - 59.0 * f(t[i-1],y[i-1]) + 37.0 * f(t[i-2],y[i-2]) - 9.0 * f(t[i-3],y[i-3]))/24.0\n",
    "             \n",
    "             \n",
    "             y[i + 1] = y[i] + h*(9.0 * f(t[i+1], y[i + 1]) + 19.0 * f(t[i],y[i]) - 5.0 * f(t[i-1],y[i-1]) + f(t[i-2],y[i-2]))/24.0\n",
    "             \n",
    "    return (t,y)"
   ]
  },
  {
   "cell_type": "markdown",
   "metadata": {},
   "source": [
    "## 5.)\n",
    "\n",
    "## (a)"
   ]
  },
  {
   "cell_type": "code",
   "execution_count": 138,
   "metadata": {},
   "outputs": [
    {
     "name": "stdout",
     "output_type": "stream",
     "text": [
      "t vals:  [0.  0.2 0.4 0.6 0.8 1. ]\n",
      "w vals:  [0.         0.02690591 0.15104685 0.49664786 1.3408657  3.24508812]\n",
      "y vals:  [0.         0.0268128  0.15077784 0.49601957 1.33085703 3.21909932]\n"
     ]
    },
    {
     "data": {
      "image/png": "[encoded data removed]",
      "text/plain": [
       "<Figure size 432x288 with 1 Axes>"
      ]
     },
     "metadata": {},
     "output_type": "display_data"
    }
   ],
   "source": [
    "T,Y = AB_Predictor_Corrector(f1,0,1,0,5)\n",
    "Y_exact = f1_exact(T)\n",
    "\n",
    "print(\"t vals: \", T)\n",
    "print(\"w vals: \", Y)\n",
    "print(\"y vals: \", Y_exact)\n",
    "\n",
    "plt.plot(T,Y,label=\"approximation\")\n",
    "plt.plot(T,Y_exact,label=\"exact\",linestyle=\"--\")\n",
    "\n",
    "plt.legend()\n",
    "plt.show()"
   ]
  },
  {
   "cell_type": "markdown",
   "metadata": {},
   "source": [
    "## (b)"
   ]
  },
  {
   "cell_type": "code",
   "execution_count": 120,
   "metadata": {},
   "outputs": [],
   "source": [
    "def f3(t,y):\n",
    "    return 1 + (t-y)**2\n",
    "\n",
    "def f3_exact(t):\n",
    "    return t + 1/(1-t)"
   ]
  },
  {
   "cell_type": "code",
   "execution_count": 129,
   "metadata": {},
   "outputs": [
    {
     "name": "stdout",
     "output_type": "stream",
     "text": [
      "t vals:  [2.  2.2 2.4 2.6 2.8 3. ]\n",
      "w vals:  [1.         1.36666096 1.68570787 1.97499411 2.24469946 2.5003083 ]\n",
      "y vals:  [1.         1.36666667 1.68571429 1.975      2.24444444 2.5       ]\n"
     ]
    },
    {
     "data": {
      "image/png": "[encoded data removed]",
      "text/plain": [
       "<Figure size 432x288 with 1 Axes>"
      ]
     },
     "metadata": {},
     "output_type": "display_data"
    }
   ],
   "source": [
    "T,Y = AB_Predictor_Corrector(f3,2,3,1,5)\n",
    "Y_exact = f3_exact(T)\n",
    "\n",
    "print(\"t vals: \", T)\n",
    "print(\"w vals: \", Y)\n",
    "print(\"y vals: \", Y_exact)\n",
    "\n",
    "plt.plot(T,Y,label=\"approximation\")\n",
    "plt.plot(T,Y_exact,label=\"exact\",linestyle=\"--\")\n",
    "\n",
    "plt.legend()\n",
    "plt.show()"
   ]
  },
  {
   "cell_type": "markdown",
   "metadata": {},
   "source": [
    "## (c)"
   ]
  },
  {
   "cell_type": "code",
   "execution_count": 116,
   "metadata": {},
   "outputs": [],
   "source": [
    "def f4(t,y):\n",
    "    return 1 + y/t\n",
    "\n",
    "def f4_exact(t):\n",
    "    return t*np.log(t) + 2*t"
   ]
  },
  {
   "cell_type": "code",
   "execution_count": 117,
   "metadata": {},
   "outputs": [
    {
     "name": "stdout",
     "output_type": "stream",
     "text": [
      "t vals:  [1.  1.2 1.4 1.6 1.8 2. ]\n",
      "w vals:  [2.         2.6187787  3.27104908 3.95198996 4.65799685 5.38627155]\n",
      "y vals:  [2.         2.61878587 3.27106113 3.95200581 4.658016   5.38629436]\n"
     ]
    },
    {
     "data": {
      "image/png": "[encoded data removed]",
      "text/plain": [
       "<Figure size 432x288 with 1 Axes>"
      ]
     },
     "metadata": {},
     "output_type": "display_data"
    }
   ],
   "source": [
    "T,Y = AB_Predictor_Corrector(f4,1,2,2,5)\n",
    "Y_exact = f4_exact(T)\n",
    "\n",
    "print(\"t vals: \", T)\n",
    "print(\"w vals: \", Y)\n",
    "print(\"y vals: \", Y_exact)\n",
    "\n",
    "plt.plot(T,Y,label=\"approximation\")\n",
    "plt.plot(T,Y_exact,label=\"exact\",linestyle=\"--\")\n",
    "\n",
    "plt.legend()\n",
    "plt.show()"
   ]
  },
  {
   "cell_type": "markdown",
   "metadata": {},
   "source": [
    "## (d)"
   ]
  },
  {
   "cell_type": "code",
   "execution_count": 118,
   "metadata": {},
   "outputs": [],
   "source": [
    "def f5(t,y):\n",
    "    return np.cos(2*t) + np.sin(3*t)\n",
    "\n",
    "def f5_exact(t):\n",
    "    return .5*np.sin(2*t) - (1/3)*np.cos(3*t) + 4/3"
   ]
  },
  {
   "cell_type": "code",
   "execution_count": 119,
   "metadata": {},
   "outputs": [
    {
     "name": "stdout",
     "output_type": "stream",
     "text": [
      "t vals:  [0.  0.2 0.4 0.6 0.8 1. ]\n",
      "w vals:  [1.         1.25293502 1.57123833 1.87510968 2.07966176 2.11925748]\n",
      "y vals:  [1.         1.25293063 1.57122546 1.87508691 2.07891804 2.11797955]\n"
     ]
    },
    {
     "data": {
      "image/png": "[encoded data removed]",
      "text/plain": [
       "<Figure size 432x288 with 1 Axes>"
      ]
     },
     "metadata": {},
     "output_type": "display_data"
    }
   ],
   "source": [
    "T,Y = AB_Predictor_Corrector(f5,0,1,1,5)\n",
    "Y_exact = f5_exact(T)\n",
    "\n",
    "print(\"t vals: \", T)\n",
    "print(\"w vals: \", Y)\n",
    "print(\"y vals: \", Y_exact)\n",
    "\n",
    "plt.plot(T,Y,label=\"approximation\")\n",
    "plt.plot(T,Y_exact,label=\"exact\",linestyle=\"--\")\n",
    "\n",
    "plt.legend()\n",
    "plt.show()"
   ]
  },
  {
   "cell_type": "code",
   "execution_count": null,
   "metadata": {},
   "outputs": [],
   "source": []
  }
 ],
 "metadata": {
  "kernelspec": {
   "display_name": "Python 3",
   "language": "python",
   "name": "python3"
  },
  "language_info": {
   "codemirror_mode": {
    "name": "ipython",
    "version": 3
   },
   "file_extension": ".py",
   "mimetype": "text/x-python",
   "name": "python",
   "nbconvert_exporter": "python",
   "pygments_lexer": "ipython3",
   "version": "3.7.3"
  }
 },
 "nbformat": 4,
 "nbformat_minor": 2
}
