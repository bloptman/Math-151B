{
 "cells": [
  {
   "cell_type": "markdown",
   "metadata": {},
   "source": [
    "# Math 151B Homework No. 4 "
   ]
  },
  {
   "cell_type": "markdown",
   "metadata": {},
   "source": [
    "### Brandon Loptman\n",
    "### UID: 604105043\n",
    "### February 25, 2020"
   ]
  },
  {
   "cell_type": "code",
   "execution_count": 25,
   "metadata": {},
   "outputs": [],
   "source": [
    "import numpy as np\n",
    "import matplotlib.pyplot as plt\n",
    "plt.style.use(\"ggplot\")"
   ]
  },
  {
   "cell_type": "code",
   "execution_count": 26,
   "metadata": {},
   "outputs": [],
   "source": [
    "def f1(t,x1,x2):\n",
    "    return x2\n",
    "\n",
    "def f2(p, q, r):\n",
    "    def innerFunc(t,x1,x2):\n",
    "        return p(t)*x2 + q(t)*x1 + r(t)\n",
    "    return innerFunc"
   ]
  },
  {
   "cell_type": "code",
   "execution_count": 27,
   "metadata": {},
   "outputs": [],
   "source": [
    "def RK4_2D_System(f1,f2,t0,y0,h,N):\n",
    "    \"\"\"\n",
    "    \"\"\"\n",
    "    \n",
    "    T = np.array([t0 + n * h for n in range(N+1)])\n",
    "    Y = np.zeros([N+1,2])\n",
    "    \n",
    "    Y[0,0] = y0[0]\n",
    "    Y[0,1] = y0[1]\n",
    "    \n",
    "    for n in range(N):\n",
    "        #print(\"n = \", n)\n",
    "        #print(\"\\n\")\n",
    "        \n",
    "        k1  = h*f1(T[n],Y[n,0],Y[n,1])\n",
    "        k1_ = h*f2(T[n],Y[n,0],Y[n,1])\n",
    "        \n",
    "        #print(\"k1: \", k1)\n",
    "        #print(\"k1_: \", k1_)\n",
    "        #print(\"\\n\")\n",
    "        \n",
    "        k2  = h*f1(T[n]+0.5*h,Y[n,0]+0.5*k1,Y[n,1]+0.5*k1_)\n",
    "        k2_ = h*f2(T[n]+0.5*h,Y[n,0]+0.5*k1,Y[n,1]+0.5*k1_)\n",
    "        \n",
    "        #print(\"k2: \", k2)\n",
    "        #print(\"k2_: \", k2_)\n",
    "        #print(\"\\n\")\n",
    "\n",
    "        \n",
    "        k3  = h*f1(T[n]+0.5*h,Y[n,0]+0.5*k2,Y[n,1]+0.5*k2_)\n",
    "        k3_ = h*f2(T[n]+0.5*h,Y[n,0]+0.5*k2,Y[n,1]+0.5*k2_)\n",
    "        \n",
    "        #print(\"k3: \", k3)\n",
    "        #print(\"k3_: \", k3_)\n",
    "        #print(\"\\n\")\n",
    "\n",
    "\n",
    "        k4  = h*f1(T[n+1],Y[n,0]+k3,Y[n,1]+k3_)\n",
    "        k4_ = h*f2(T[n+1],Y[n,0]+k3,Y[n,1]+k3_)\n",
    "        \n",
    "        #print(\"k4: \", k4)\n",
    "        #print(\"k4_: \", k4_)\n",
    "        #print(\"\\n\")\n",
    "\n",
    "        Y[n+1,0] = Y[n,0] + (1/6)*(k1+ 2*k2 + 2*k3 + k4)\n",
    "        Y[n+1,1] = Y[n,1] + (1/6)*(k1_+ 2*k2_ + 2*k3_ + k4_)\n",
    "        \n",
    "    return T,Y"
   ]
  },
  {
   "cell_type": "code",
   "execution_count": 28,
   "metadata": {},
   "outputs": [],
   "source": [
    "def Linear_Shooting_Method(p,q,r,a,b,alpha,beta,N):\n",
    "    \"\"\"\n",
    "    \"\"\"\n",
    "    \n",
    "    h = (b-a)/N\n",
    "    \n",
    "    u0 = np.array([alpha,0])\n",
    "    v0 = np.array([0,1])\n",
    "    \n",
    "    T = np.zeros(N+1)\n",
    "    U = np.zeros([N+1,2])\n",
    "    V = np.zeros([N+1,2])\n",
    "    W = np.zeros([N+1,2])\n",
    "\n",
    "    T,U = RK4_2D_System(f1,f2(p,q,r),a,u0,h,N)\n",
    "    print(\"U = \", U)\n",
    "    \n",
    "    T,V = RK4_2D_System(f1,f2(p,q,r),a,v0,h,N)\n",
    "    print(\"V = \", V)\n",
    "    \n",
    "    W[0,0] = alpha\n",
    "    W[0,1] = (beta - U[N,0])/V[N,0]\n",
    "    \n",
    "    for n in range(1,N+1):\n",
    "        W[n,0] = U[n,0] + W[0,1]*V[n,0]\n",
    "        W[n,1] = U[n,1] + W[0,1]*V[n,1]\n",
    "        \n",
    "    print(\"W = \", W)\n",
    "    \n",
    "    return T,W"
   ]
  },
  {
   "cell_type": "code",
   "execution_count": 29,
   "metadata": {},
   "outputs": [
    {
     "name": "stdout",
     "output_type": "stream",
     "text": [
      "U =  [[1.         0.        ]\n",
      " [1.00896058 0.16978958]\n",
      " [1.03245472 0.29393896]\n",
      " [1.06674375 0.38765183]\n",
      " [1.10928795 0.46027852]\n",
      " [1.1583     0.51781759]\n",
      " [1.21248371 0.56425894]\n",
      " [1.27087454 0.6023407 ]\n",
      " [1.33273851 0.63399389]\n",
      " [1.39750618 0.66061333]\n",
      " [1.46472815 0.68322815]]\n",
      "V =  [[0.         1.        ]\n",
      " [0.09132029 0.83821903]\n",
      " [0.16947822 0.73222213]\n",
      " [0.23891782 0.66121737]\n",
      " [0.30246929 0.61286282]\n",
      " [0.36198758 0.57955315]\n",
      " [0.41871761 0.55645192]\n",
      " [0.47351134 0.54040021]\n",
      " [0.52696125 0.529287  ]\n",
      " [0.57948473 0.52167349]\n",
      " [0.63137891 0.51656229]]\n",
      "W =  [[1.         0.84778228]\n",
      " [1.0863803  0.88041682]\n",
      " [1.17613535 0.91470391]\n",
      " [1.26929405 0.94822019]\n",
      " [1.36571605 0.97985275]\n",
      " [1.46518665 1.00915247]\n",
      " [1.56746508 1.03600902]\n",
      " [1.67230907 1.06048243]\n",
      " [1.77948692 1.08271402]\n",
      " [1.88878306 1.10287887]\n",
      " [2.         1.12116051]]\n",
      "T values:  [1.  1.1 1.2 1.3 1.4 1.5 1.6 1.7 1.8 1.9 2. ]\n",
      "Approximate Y values:  [1.         1.0863803  1.17613535 1.26929405 1.36571605 1.46518665\n",
      " 1.56746508 1.67230907 1.77948692 1.88878306 2.        ]\n"
     ]
    }
   ],
   "source": [
    "def p(t):\n",
    "    return -2/t\n",
    "\n",
    "def q(t):\n",
    "    return 2/(t**2)\n",
    "\n",
    "def r(t):\n",
    "    return np.sin(np.log(t))/(t**2)\n",
    "\n",
    "a = 1.0\n",
    "b = 2.0\n",
    "\n",
    "alpha = 1.0\n",
    "beta = 2.0\n",
    "\n",
    "N = 10\n",
    "\n",
    "T,W = Linear_Shooting_Method(p,q,r,a,b,alpha,beta,N)\n",
    "\n",
    "print(\"T values: \", T)\n",
    "print(\"Approximate Y values: \", W[:,0])"
   ]
  },
  {
   "cell_type": "markdown",
   "metadata": {},
   "source": [
    "## 11.1\n",
    "### 1.)"
   ]
  },
  {
   "cell_type": "code",
   "execution_count": 30,
   "metadata": {},
   "outputs": [],
   "source": [
    "def p(t):\n",
    "    return 0.0\n",
    "\n",
    "def q(t):\n",
    "    return 4.0\n",
    "\n",
    "def r(t):\n",
    "    return -4.0*t\n",
    "\n",
    "def exact_y(t):\n",
    "    return np.exp(2)*((np.exp(4)-1)**-1)*(np.exp(2*t)-np.exp(-2*t)) + t  \n",
    "\n",
    "a = 0.0\n",
    "b = 1.0\n",
    "\n",
    "alpha = 0.0\n",
    "beta = 2.0"
   ]
  },
  {
   "cell_type": "markdown",
   "metadata": {},
   "source": [
    "### (a.)"
   ]
  },
  {
   "cell_type": "code",
   "execution_count": 31,
   "metadata": {},
   "outputs": [
    {
     "name": "stdout",
     "output_type": "stream",
     "text": [
      "U =  [[ 0.00000000e+00  0.00000000e+00]\n",
      " [-6.66666667e-04 -2.00666667e-02]\n",
      " [-5.37342222e-03 -8.10711156e-02]\n",
      " [-1.83224079e-02 -1.85461641e-01]\n",
      " [-4.40465493e-02 -3.37427727e-01]\n",
      " [-8.75914746e-02 -5.43068187e-01]\n",
      " [-1.54718008e-01 -8.10635923e-01]\n",
      " [-2.52133365e-01 -1.15086913e+00]\n",
      " [-3.87760334e-01 -1.57742228e+00]\n",
      " [-5.71055234e-01 -2.10741405e+00]\n",
      " [-8.13387423e-01 -2.76211440e+00]]\n",
      "V =  [[0.  1. ]\n",
      " [0.1 1. ]\n",
      " [0.2 1. ]\n",
      " [0.3 1. ]\n",
      " [0.4 1. ]\n",
      " [0.5 1. ]\n",
      " [0.6 1. ]\n",
      " [0.7 1. ]\n",
      " [0.8 1. ]\n",
      " [0.9 1. ]\n",
      " [1.  1. ]]\n",
      "W =  [[0.         2.81338742]\n",
      " [0.28067208 2.79332076]\n",
      " [0.55730406 2.73231631]\n",
      " [0.82569382 2.62792578]\n",
      " [1.08130842 2.4759597 ]\n",
      " [1.31910224 2.27031924]\n",
      " [1.53331445 2.0027515 ]\n",
      " [1.71723783 1.66251829]\n",
      " [1.8629496  1.23596515]\n",
      " [1.96099345 0.70597338]\n",
      " [2.         0.05127303]]\n",
      "T values:  [0.  0.1 0.2 0.3 0.4 0.5 0.6 0.7 0.8 0.9 1. ]\n",
      "Exact Y values:  [0.         0.15551248 0.31325286 0.47553849 0.64486908 0.82402714\n",
      " 1.01618954 1.22505509 1.45499294 1.71121796 2.        ]\n",
      "Approximate Y values:  [0.         0.28067208 0.55730406 0.82569382 1.08130842 1.31910224\n",
      " 1.53331445 1.71723783 1.8629496  1.96099345 2.        ]\n"
     ]
    },
    {
     "data": {
      "image/png": "[encoded data removed]",
      "text/plain": [
       "<Figure size 432x288 with 1 Axes>"
      ]
     },
     "metadata": {},
     "output_type": "display_data"
    }
   ],
   "source": [
    "N = 10\n",
    "\n",
    "T,W = Linear_Shooting_Method(p,q,r,a,b,alpha,beta,N)\n",
    "Y = exact_y(T)\n",
    "\n",
    "print(\"T values: \", T)\n",
    "print(\"Exact Y values: \",Y)\n",
    "print(\"Approximate Y values: \", W[:,0])\n",
    "\n",
    "plt.plot(T,W[:,0])\n",
    "plt.plot(T,Y)\n",
    "plt.show()"
   ]
  },
  {
   "cell_type": "markdown",
   "metadata": {},
   "source": [
    "### (b.)"
   ]
  },
  {
   "cell_type": "code",
   "execution_count": 32,
   "metadata": {},
   "outputs": [
    {
     "name": "stdout",
     "output_type": "stream",
     "text": [
      "U =  [[ 0.          0.        ]\n",
      " [-0.01041667 -0.12760417]\n",
      " [-0.08729384 -0.54275852]\n",
      " [-0.31399501 -1.35138535]\n",
      " [-0.81210514 -2.75976005]]\n",
      "V =  [[0.   1.  ]\n",
      " [0.25 1.  ]\n",
      " [0.5  1.  ]\n",
      " [0.75 1.  ]\n",
      " [1.   1.  ]]\n",
      "W =  [[0.         2.81210514]\n",
      " [0.69260962 2.68450097]\n",
      " [1.31875873 2.26934662]\n",
      " [1.79508385 1.46071979]\n",
      " [2.         0.05234509]]\n",
      "T values:  [0.   0.25 0.5  0.75 1.  ]\n",
      "Exact Y values:  [0.         0.39367669 0.82402714 1.33708613 2.        ]\n",
      "Approximate Y values:  [0.         0.69260962 1.31875873 1.79508385 2.        ]\n"
     ]
    },
    {
     "data": {
      "image/png": "[encoded data removed]",
      "text/plain": [
       "<Figure size 432x288 with 1 Axes>"
      ]
     },
     "metadata": {},
     "output_type": "display_data"
    }
   ],
   "source": [
    "N = 4\n",
    "\n",
    "T,W = Linear_Shooting_Method(p,q,r,a,b,alpha,beta,N)\n",
    "Y = exact_y(T)\n",
    "\n",
    "print(\"T values: \", T)\n",
    "print(\"Exact Y values: \",Y)\n",
    "print(\"Approximate Y values: \", W[:,0])\n",
    "\n",
    "plt.plot(T,W[:,0])\n",
    "plt.plot(T,Y)\n",
    "plt.show()"
   ]
  },
  {
   "cell_type": "code",
   "execution_count": 33,
   "metadata": {},
   "outputs": [],
   "source": [
    "def Nonlinear_Shooting_Method(a,b,alpha, beta, n, tol, M):\n",
    "    \"\"\"\n",
    "    \"\"\"\n",
    "\n",
    "    w1 = np.zeros(n+1)  \n",
    "    w2 = np.zeros(n+1)\n",
    "    X = np.zeros(n+1)\n",
    "    h = (b-a)/n\n",
    "    k = 1\n",
    "    TK = (beta - alpha)/(b - a)\n",
    "\n",
    "    while k <= M:\n",
    "\n",
    "        w1[0] = alpha\n",
    "        w2[0] = TK\n",
    "        u1    = 0\n",
    "        u2    = 1\n",
    "\n",
    "        for i in range(1,n+1):\n",
    "            x = a + (i-1)*h    #step 5\n",
    "            \n",
    "            t = x + 0.5*(h)\n",
    "\n",
    "            k11 = h*w2[i-1]     #step 6\n",
    "\n",
    "            k12 = h*f(x,w1[i-1],w2[i-1])\n",
    "            k21 = h*(w2[i-1] + (1/2)*k12)\n",
    "            k22 = h*f(t, w1[i-1] + (1/2)*k11, w2[i-1] + (1/2)*k12)\n",
    "            k31 = h*(w2[i-1] + (1/2)*k22)\n",
    "            k32 = h*f(t, w1[i-1] + (1/2)*k21, w2[i-1] + (1/2)*k22)\n",
    "            t   = x + h\n",
    "            k41 = h*(w2[i-1]+k32)\n",
    "            k42 = h*f(t, w1[i-1] + k31, w2[i-1] + k32)\n",
    "            w1[i] = w1[i-1] + (k11 + 2*k21 + 2*k31 + k41)/6\n",
    "            w2[i] = w2[i-1] + (k12 + 2*k22 + 2*k32 + k42)/6   \n",
    "            kp11 = h*u2\n",
    "            kp12 = h*(fy(x,w1[i-1],w2[i-1])*u1 + fyp(x,w1[i-1], w2[i-1])*u2)\n",
    "            t    = x + 0.5*(h)\n",
    "            kp21 = h*(u2 + (1/2)*kp12)\n",
    "            kp22 = h*((fy(t, w1[i-1],w2[i-1])*(u1 + (1/2)*kp11)) + fyp(x+h/2, w1[i-1],w2[i-1])*(u2 +(1/2)*kp12))\n",
    "            kp31 = h*(u2 + (1/2)*kp22)\n",
    "            kp32 = h*((fy(t, w1[i-1],w2[i-1])*(u1 + (1/2)*kp21)) + fyp(x+h/2, w1[i-1],w2[i-1])*(u2 +(1/2)*kp22))\n",
    "            t    = x + h\n",
    "            kp41 = h*(u2 + kp32)\n",
    "            kp42 = h*(fy(t, w1[i-1], w2[i-1])*(u1+kp31) + fyp(x + h, w1[i-1], w2[i-1])*(u2 + kp32))\n",
    "            u1 = u1 + (1/6)*(kp11 + 2*kp21 + 2*kp31 + kp41)\n",
    "            u2 = u2 + (1/6)*(kp12 + 2*kp22 + 2*kp32 + kp42)\n",
    "\n",
    "        r = np.abs(w1[n] - beta)\n",
    "        \n",
    "        if r < tol:\n",
    "            for i in range(0,n+1):\n",
    "                X[i] = a + i*h\n",
    "                \n",
    "            return X, w1\n",
    "\n",
    "        TK = TK -(w1[n]-beta)/u1\n",
    "\n",
    "        k = k+1\n",
    "\n",
    "    print(\"Maximum number of iterations exceeded\")   \n",
    "    return X, w1"
   ]
  },
  {
   "cell_type": "markdown",
   "metadata": {},
   "source": [
    "## 11.2\n",
    "### 1.)"
   ]
  },
  {
   "cell_type": "code",
   "execution_count": 34,
   "metadata": {},
   "outputs": [
    {
     "name": "stdout",
     "output_type": "stream",
     "text": [
      "X values:  [1.  1.5 2. ]\n",
      "Exact Y values:  [0.         0.40546511 0.69314718]\n",
      "Approximate Y values:  [0.         0.40549954 0.69314718]\n"
     ]
    },
    {
     "data": {
      "image/png": "[encoded data removed]",
      "text/plain": [
       "<Figure size 432x288 with 1 Axes>"
      ]
     },
     "metadata": {},
     "output_type": "display_data"
    }
   ],
   "source": [
    "def f(x,y,yp):\n",
    "    fx = -(yp**2)-y+np.log(x)\n",
    "    return fx\n",
    "\n",
    "def fy(xp,z,zp):\n",
    "    fyy = -1\n",
    "    return fyy\n",
    "\n",
    "def fyp(xpp,zpp,zppp):\n",
    "    fypp = -2*zppp\n",
    "    return fypp\n",
    "\n",
    "def y_exact(x):\n",
    "    return np.log(x)\n",
    "\n",
    "a = 1          \n",
    "b = 2         \n",
    "alpha = 0\n",
    "beta = np.log(2) \n",
    "N = 2     \n",
    "M = 100        \n",
    "tol = 1e-12\n",
    "\n",
    "\n",
    "X,W = Nonlinear_Shooting_Method(a,b,alpha,beta,N,tol,M)\n",
    "Y_exact = y_exact(X)\n",
    "\n",
    "print(\"X values: \", X)\n",
    "print(\"Exact Y values: \" , Y_exact)\n",
    "print(\"Approximate Y values: \", W)\n",
    "\n",
    "plt.plot(X,W)\n",
    "plt.plot(X,Y_exact,linestyle=\"--\")\n",
    "plt.show()"
   ]
  },
  {
   "cell_type": "code",
   "execution_count": 35,
   "metadata": {},
   "outputs": [],
   "source": [
    "def F(f,x,n):\n",
    "    fx = np.zeros([n,1])\n",
    "    \n",
    "    for i in range(n):\n",
    "        fx[i] = f[i](x)\n",
    "    \n",
    "    return fx\n",
    "\n",
    "def J(j,x,n):\n",
    "    jx = np.zeros([n,n])\n",
    "    \n",
    "    for i in range(n):\n",
    "        for k in range(n):\n",
    "            jx[i,k] = j[i,k](x)\n",
    "            \n",
    "    return jx"
   ]
  },
  {
   "cell_type": "code",
   "execution_count": 36,
   "metadata": {},
   "outputs": [],
   "source": [
    "def Newton_Method_Systems(n,x0,tol,N):\n",
    "    k = 1\n",
    "    x = x0\n",
    "    while(k <= N):\n",
    "        #print(\"iteration \", k)\n",
    "        \n",
    "        fx = F(f,x,n)\n",
    "        jx = J(j,x,n)\n",
    "        \n",
    "        #print(\"J(x) = \\n\", jx)\n",
    "        #print(\"F(x) = \\n\", fx)\n",
    "        \n",
    "        #jx_inv = np.linalg.inv(jx)\n",
    "        \n",
    "        #print(\"F(x) = \\n\", fx)\n",
    "        #print(\"J(x) = \\n\", jx)\n",
    "        #print(\"J(x) Inverse = \\n\", jx_inv)\n",
    "\n",
    "        \n",
    "        y = -1*np.linalg.solve(jx,fx)\n",
    "        y = y.reshape(n)\n",
    "        \n",
    "        x = x + y \n",
    "        \n",
    "        #print(\"y = \", y)\n",
    "        #print(\"x = \", x)\n",
    "        \n",
    "        if(np.linalg.norm(y) < tol):\n",
    "            print(\"The procedure was successful!\")\n",
    "            return x\n",
    "        \n",
    "        k = k + 1\n",
    "        \n",
    "    print(\"Max number of iterations surpassed. The procedure was unsuccessful!\")\n",
    "    return x"
   ]
  },
  {
   "cell_type": "markdown",
   "metadata": {},
   "source": [
    "## 10.2\n",
    "### 1.)"
   ]
  },
  {
   "cell_type": "markdown",
   "metadata": {},
   "source": [
    "### (a.)"
   ]
  },
  {
   "cell_type": "code",
   "execution_count": 37,
   "metadata": {},
   "outputs": [
    {
     "name": "stdout",
     "output_type": "stream",
     "text": [
      "Max number of iterations surpassed. The procedure was unsuccessful!\n",
      "[0.49589361 1.98342347]\n"
     ]
    }
   ],
   "source": [
    "def f1(x):\n",
    "    return 4*(x[0]**2) - 20*x[0] + .25*(x[1]**2) + 8\n",
    "def f2(x):\n",
    "    return 0.5*x[0]*(x[1]**2) + 2*x[0] - 5*x[1] + 8\n",
    "def j11(x):\n",
    "    return 8*x[0] - 20\n",
    "def j12(x):\n",
    "    return 0.5*x[1]\n",
    "def j21(x): \n",
    "    return 0.5*x[1]**2 + 2\n",
    "def j22(x):\n",
    "    return x[0]*x[1] - 5\n",
    "\n",
    "n = 2\n",
    "tol = 10e-12\n",
    "N = 2\n",
    "\n",
    "f = np.array([f1,f2])\n",
    "j = np.array([[j11,j12],[j21,j22]])\n",
    "x0 = np.array([0,0])\n",
    "\n",
    "x = Newton_Method_Systems(n,x0,tol,N)\n",
    "\n",
    "print(x)"
   ]
  },
  {
   "cell_type": "markdown",
   "metadata": {},
   "source": [
    "### (b.)"
   ]
  },
  {
   "cell_type": "code",
   "execution_count": 38,
   "metadata": {},
   "outputs": [
    {
     "name": "stdout",
     "output_type": "stream",
     "text": [
      "Max number of iterations surpassed. The procedure was unsuccessful!\n",
      "[-0.51316159 -0.01837622]\n"
     ]
    }
   ],
   "source": [
    "def f1(x):\n",
    "    return np.sin(4*np.pi*x[0]*x[1]) - 2*x[1] - x[0]\n",
    "def f2(x):\n",
    "    return ((4*np.pi-1)/(4*np.pi))*(np.exp(2*x[0])-np.exp(1)) + 4*np.exp(1)*(x[1]**2) - 2*np.exp(1)*x[0]\n",
    "def j11(x):\n",
    "    return 4*np.pi*x[1]*np.cos(4*np.pi*x[0]*x[1]) - 1\n",
    "def j12(x):\n",
    "    return 4*np.pi*x[0]*np.cos(4*np.pi*x[0]*x[1]) - 2\n",
    "def j21(x): \n",
    "    return ((4*np.pi-1)/(4*np.pi))*2*np.exp(2*x[0]) - 2*np.exp(1)\n",
    "def j22(x):\n",
    "    return 8*np.exp(1)*x[1]\n",
    "\n",
    "n = 2\n",
    "tol = 10e-12\n",
    "N = 2\n",
    "\n",
    "f = np.array([f1,f2])\n",
    "j = np.array([[j11,j12],[j21,j22]])\n",
    "x0 = np.array([0,0])\n",
    "\n",
    "x = Newton_Method_Systems(n,x0,tol,N)\n",
    "\n",
    "print(x)"
   ]
  },
  {
   "cell_type": "markdown",
   "metadata": {},
   "source": [
    "### (c.)"
   ]
  },
  {
   "cell_type": "code",
   "execution_count": 39,
   "metadata": {},
   "outputs": [
    {
     "name": "stdout",
     "output_type": "stream",
     "text": [
      "Max number of iterations surpassed. The procedure was unsuccessful!\n",
      "[-23.94262597   7.60867966]\n"
     ]
    }
   ],
   "source": [
    "def f1(x):\n",
    "    return x[0]*(1-x[0]) + 4*x[1] - 12\n",
    "def f2(x):\n",
    "    return (x[0]-2)**2 + (2*x[1]-3)**2 - 25\n",
    "def j11(x):\n",
    "    return 1 - 2*x[0]\n",
    "def j12(x):\n",
    "    return 4\n",
    "def j21(x): \n",
    "    return 2*(x[0]-2)\n",
    "def j22(x):\n",
    "    return 4*(2*x[1]-3)\n",
    "\n",
    "n = 2\n",
    "tol = 10e-12\n",
    "N = 2\n",
    "\n",
    "f = np.array([f1,f2])\n",
    "j = np.array([[j11,j12],[j21,j22]])\n",
    "x0 = np.array([0,0])\n",
    "\n",
    "x = Newton_Method_Systems(n,x0,tol,N)\n",
    "\n",
    "print(x)"
   ]
  },
  {
   "cell_type": "markdown",
   "metadata": {},
   "source": [
    "### (d.)\n",
    "The matrix $J(x^{(0)})$ is singular so Newton's method cannot be applied."
   ]
  },
  {
   "cell_type": "markdown",
   "metadata": {},
   "source": [
    "### 2.)"
   ]
  },
  {
   "cell_type": "markdown",
   "metadata": {},
   "source": [
    "### (a.)"
   ]
  },
  {
   "cell_type": "code",
   "execution_count": 40,
   "metadata": {},
   "outputs": [
    {
     "name": "stdout",
     "output_type": "stream",
     "text": [
      "Max number of iterations surpassed. The procedure was unsuccessful!\n",
      "[ 0.47794703  0.74774834 -0.51208918]\n"
     ]
    }
   ],
   "source": [
    "def f1(x):\n",
    "    return 3*x[0]-np.cos(x[2]*x[1])-0.5\n",
    "def f2(x):\n",
    "    return 4*(x[0]**2)-625*(x[1]**2)+2*x[1]-1\n",
    "def f3(x):\n",
    "    return np.exp(-x[0]*x[1])+20*x[2]+((10*np.pi-3)/3)\n",
    "def j11(x):\n",
    "    return 3\n",
    "def j12(x):\n",
    "    return x[2]*np.sin(x[1]*x[2])\n",
    "def j13(x): \n",
    "    return x[1]*np.sin(x[1]*x[2])\n",
    "def j21(x):\n",
    "    return 8*x[0]\n",
    "def j22(x):\n",
    "    return 1250*x[1] + 2\n",
    "def j23(x):\n",
    "    return 0\n",
    "def j31(x):\n",
    "    return -x[2]*np.exp(-x[1]*x[0])\n",
    "def j32(x):\n",
    "    return 0\n",
    "def j33(x):\n",
    "    return 20\n",
    "\n",
    "n = 3\n",
    "tol = 10e-6\n",
    "N = 2\n",
    "\n",
    "f = np.array([f1,f2,f3])\n",
    "j = np.array([[j11,j12,j13],[j21,j22,j23],[j31,j32,j33]])\n",
    "x0 = np.array([0,0,0])\n",
    "\n",
    "x = Newton_Method_Systems(n,x0,tol,N)\n",
    "\n",
    "print(x)"
   ]
  },
  {
   "cell_type": "markdown",
   "metadata": {},
   "source": [
    "### (b.)"
   ]
  },
  {
   "cell_type": "code",
   "execution_count": 41,
   "metadata": {},
   "outputs": [
    {
     "name": "stdout",
     "output_type": "stream",
     "text": [
      "Max number of iterations surpassed. The procedure was unsuccessful!\n",
      "[  3.42606347  27.73936529 -28.16542876]\n"
     ]
    }
   ],
   "source": [
    "def f1(x):\n",
    "    return (x[0]**2)+x[1]-37\n",
    "def f2(x):\n",
    "    return x[0]-(x[1]**2)-5\n",
    "def f3(x):\n",
    "    return x[0]+x[1]+x[2]-3\n",
    "def j11(x):\n",
    "    return 2*x[0]\n",
    "def j12(x):\n",
    "    return 1\n",
    "def j13(x): \n",
    "    return 0\n",
    "def j21(x):\n",
    "    return 1\n",
    "def j22(x):\n",
    "    return -4*x[1]\n",
    "def j23(x):\n",
    "    return 0\n",
    "def j31(x):\n",
    "    return 1\n",
    "def j32(x):\n",
    "    return 1\n",
    "def j33(x):\n",
    "    return 1\n",
    "\n",
    "n = 3\n",
    "tol = 10e-12\n",
    "N = 2\n",
    "\n",
    "f = np.array([f1,f2,f3])\n",
    "j = np.array([[j11,j12,j13],[j21,j22,j23],[j31,j32,j33]])\n",
    "x0 = np.array([0,0,0])\n",
    "\n",
    "x = Newton_Method_Systems(n,x0,tol,N)\n",
    "\n",
    "print(x)"
   ]
  },
  {
   "cell_type": "markdown",
   "metadata": {},
   "source": [
    "### (c.)"
   ]
  },
  {
   "cell_type": "code",
   "execution_count": 42,
   "metadata": {},
   "outputs": [
    {
     "name": "stdout",
     "output_type": "stream",
     "text": [
      "Max number of iterations surpassed. The procedure was unsuccessful!\n",
      "[1.02988426 1.08714296 0.92998579]\n"
     ]
    }
   ],
   "source": [
    "def f1(x):\n",
    "    return 15*x[0]+(x[1]**2)-4*x[2]-13\n",
    "def f2(x):\n",
    "    return (x[0]**2)+10*x[1]-x[2]-11\n",
    "def f3(x):\n",
    "    return (x[1]**3)-25*x[2]+22\n",
    "def j11(x):\n",
    "    return 15\n",
    "def j12(x):\n",
    "    return 2*x[1]\n",
    "def j13(x): \n",
    "    return -2\n",
    "def j21(x):\n",
    "    return 2*x[0]\n",
    "def j22(x):\n",
    "    return 10\n",
    "def j23(x):\n",
    "    return -1\n",
    "def j31(x):\n",
    "    return 0\n",
    "def j32(x):\n",
    "    return 3*(x[1]**2)\n",
    "def j33(x):\n",
    "    return -25\n",
    "\n",
    "n = 3\n",
    "tol = 10e-12\n",
    "N = 2\n",
    "\n",
    "f = np.array([f1,f2,f3])\n",
    "j = np.array([[j11,j12,j13],[j21,j22,j23],[j31,j32,j33]])\n",
    "x0 = np.array([0,0,0])\n",
    "\n",
    "x = Newton_Method_Systems(n,x0,tol,N)\n",
    "\n",
    "print(x)"
   ]
  },
  {
   "cell_type": "markdown",
   "metadata": {},
   "source": [
    "### (d.)\n",
    "The matrix $J(x^{(0)})$ is singular so Newton's method cannot be applied."
   ]
  },
  {
   "cell_type": "code",
   "execution_count": 43,
   "metadata": {},
   "outputs": [
    {
     "ename": "LinAlgError",
     "evalue": "Singular matrix",
     "output_type": "error",
     "traceback": [
      "\u001b[0;31m---------------------------------------------------------------------------\u001b[0m",
      "\u001b[0;31mLinAlgError\u001b[0m                               Traceback (most recent call last)",
      "\u001b[0;32m<ipython-input-43-963384e624d6>\u001b[0m in \u001b[0;36m<module>\u001b[0;34m\u001b[0m\n\u001b[1;32m     32\u001b[0m \u001b[0mx0\u001b[0m \u001b[0;34m=\u001b[0m \u001b[0mnp\u001b[0m\u001b[0;34m.\u001b[0m\u001b[0marray\u001b[0m\u001b[0;34m(\u001b[0m\u001b[0;34m[\u001b[0m\u001b[0;36m0\u001b[0m\u001b[0;34m,\u001b[0m\u001b[0;36m0\u001b[0m\u001b[0;34m,\u001b[0m\u001b[0;36m0\u001b[0m\u001b[0;34m]\u001b[0m\u001b[0;34m)\u001b[0m\u001b[0;34m\u001b[0m\u001b[0;34m\u001b[0m\u001b[0m\n\u001b[1;32m     33\u001b[0m \u001b[0;34m\u001b[0m\u001b[0m\n\u001b[0;32m---> 34\u001b[0;31m \u001b[0mx\u001b[0m \u001b[0;34m=\u001b[0m \u001b[0mNewton_Method_Systems\u001b[0m\u001b[0;34m(\u001b[0m\u001b[0mn\u001b[0m\u001b[0;34m,\u001b[0m\u001b[0mx0\u001b[0m\u001b[0;34m,\u001b[0m\u001b[0mtol\u001b[0m\u001b[0;34m,\u001b[0m\u001b[0mN\u001b[0m\u001b[0;34m)\u001b[0m\u001b[0;34m\u001b[0m\u001b[0;34m\u001b[0m\u001b[0m\n\u001b[0m\u001b[1;32m     35\u001b[0m \u001b[0;34m\u001b[0m\u001b[0m\n\u001b[1;32m     36\u001b[0m \u001b[0mprint\u001b[0m\u001b[0;34m(\u001b[0m\u001b[0mx\u001b[0m\u001b[0;34m)\u001b[0m\u001b[0;34m\u001b[0m\u001b[0;34m\u001b[0m\u001b[0m\n",
      "\u001b[0;32m<ipython-input-36-b8c17a462f40>\u001b[0m in \u001b[0;36mNewton_Method_Systems\u001b[0;34m(n, x0, tol, N)\u001b[0m\n\u001b[1;32m     18\u001b[0m \u001b[0;34m\u001b[0m\u001b[0m\n\u001b[1;32m     19\u001b[0m \u001b[0;34m\u001b[0m\u001b[0m\n\u001b[0;32m---> 20\u001b[0;31m         \u001b[0my\u001b[0m \u001b[0;34m=\u001b[0m \u001b[0;34m-\u001b[0m\u001b[0;36m1\u001b[0m\u001b[0;34m*\u001b[0m\u001b[0mnp\u001b[0m\u001b[0;34m.\u001b[0m\u001b[0mlinalg\u001b[0m\u001b[0;34m.\u001b[0m\u001b[0msolve\u001b[0m\u001b[0;34m(\u001b[0m\u001b[0mjx\u001b[0m\u001b[0;34m,\u001b[0m\u001b[0mfx\u001b[0m\u001b[0;34m)\u001b[0m\u001b[0;34m\u001b[0m\u001b[0;34m\u001b[0m\u001b[0m\n\u001b[0m\u001b[1;32m     21\u001b[0m         \u001b[0my\u001b[0m \u001b[0;34m=\u001b[0m \u001b[0my\u001b[0m\u001b[0;34m.\u001b[0m\u001b[0mreshape\u001b[0m\u001b[0;34m(\u001b[0m\u001b[0mn\u001b[0m\u001b[0;34m)\u001b[0m\u001b[0;34m\u001b[0m\u001b[0;34m\u001b[0m\u001b[0m\n\u001b[1;32m     22\u001b[0m \u001b[0;34m\u001b[0m\u001b[0m\n",
      "\u001b[0;32m<__array_function__ internals>\u001b[0m in \u001b[0;36msolve\u001b[0;34m(*args, **kwargs)\u001b[0m\n",
      "\u001b[0;32m~/anaconda3/lib/python3.7/site-packages/numpy/linalg/linalg.py\u001b[0m in \u001b[0;36msolve\u001b[0;34m(a, b)\u001b[0m\n\u001b[1;32m    397\u001b[0m     \u001b[0msignature\u001b[0m \u001b[0;34m=\u001b[0m \u001b[0;34m'DD->D'\u001b[0m \u001b[0;32mif\u001b[0m \u001b[0misComplexType\u001b[0m\u001b[0;34m(\u001b[0m\u001b[0mt\u001b[0m\u001b[0;34m)\u001b[0m \u001b[0;32melse\u001b[0m \u001b[0;34m'dd->d'\u001b[0m\u001b[0;34m\u001b[0m\u001b[0;34m\u001b[0m\u001b[0m\n\u001b[1;32m    398\u001b[0m     \u001b[0mextobj\u001b[0m \u001b[0;34m=\u001b[0m \u001b[0mget_linalg_error_extobj\u001b[0m\u001b[0;34m(\u001b[0m\u001b[0m_raise_linalgerror_singular\u001b[0m\u001b[0;34m)\u001b[0m\u001b[0;34m\u001b[0m\u001b[0;34m\u001b[0m\u001b[0m\n\u001b[0;32m--> 399\u001b[0;31m     \u001b[0mr\u001b[0m \u001b[0;34m=\u001b[0m \u001b[0mgufunc\u001b[0m\u001b[0;34m(\u001b[0m\u001b[0ma\u001b[0m\u001b[0;34m,\u001b[0m \u001b[0mb\u001b[0m\u001b[0;34m,\u001b[0m \u001b[0msignature\u001b[0m\u001b[0;34m=\u001b[0m\u001b[0msignature\u001b[0m\u001b[0;34m,\u001b[0m \u001b[0mextobj\u001b[0m\u001b[0;34m=\u001b[0m\u001b[0mextobj\u001b[0m\u001b[0;34m)\u001b[0m\u001b[0;34m\u001b[0m\u001b[0;34m\u001b[0m\u001b[0m\n\u001b[0m\u001b[1;32m    400\u001b[0m \u001b[0;34m\u001b[0m\u001b[0m\n\u001b[1;32m    401\u001b[0m     \u001b[0;32mreturn\u001b[0m \u001b[0mwrap\u001b[0m\u001b[0;34m(\u001b[0m\u001b[0mr\u001b[0m\u001b[0;34m.\u001b[0m\u001b[0mastype\u001b[0m\u001b[0;34m(\u001b[0m\u001b[0mresult_t\u001b[0m\u001b[0;34m,\u001b[0m \u001b[0mcopy\u001b[0m\u001b[0;34m=\u001b[0m\u001b[0;32mFalse\u001b[0m\u001b[0;34m)\u001b[0m\u001b[0;34m)\u001b[0m\u001b[0;34m\u001b[0m\u001b[0;34m\u001b[0m\u001b[0m\n",
      "\u001b[0;32m~/anaconda3/lib/python3.7/site-packages/numpy/linalg/linalg.py\u001b[0m in \u001b[0;36m_raise_linalgerror_singular\u001b[0;34m(err, flag)\u001b[0m\n\u001b[1;32m     95\u001b[0m \u001b[0;34m\u001b[0m\u001b[0m\n\u001b[1;32m     96\u001b[0m \u001b[0;32mdef\u001b[0m \u001b[0m_raise_linalgerror_singular\u001b[0m\u001b[0;34m(\u001b[0m\u001b[0merr\u001b[0m\u001b[0;34m,\u001b[0m \u001b[0mflag\u001b[0m\u001b[0;34m)\u001b[0m\u001b[0;34m:\u001b[0m\u001b[0;34m\u001b[0m\u001b[0;34m\u001b[0m\u001b[0m\n\u001b[0;32m---> 97\u001b[0;31m     \u001b[0;32mraise\u001b[0m \u001b[0mLinAlgError\u001b[0m\u001b[0;34m(\u001b[0m\u001b[0;34m\"Singular matrix\"\u001b[0m\u001b[0;34m)\u001b[0m\u001b[0;34m\u001b[0m\u001b[0;34m\u001b[0m\u001b[0m\n\u001b[0m\u001b[1;32m     98\u001b[0m \u001b[0;34m\u001b[0m\u001b[0m\n\u001b[1;32m     99\u001b[0m \u001b[0;32mdef\u001b[0m \u001b[0m_raise_linalgerror_nonposdef\u001b[0m\u001b[0;34m(\u001b[0m\u001b[0merr\u001b[0m\u001b[0;34m,\u001b[0m \u001b[0mflag\u001b[0m\u001b[0;34m)\u001b[0m\u001b[0;34m:\u001b[0m\u001b[0;34m\u001b[0m\u001b[0;34m\u001b[0m\u001b[0m\n",
      "\u001b[0;31mLinAlgError\u001b[0m: Singular matrix"
     ]
    }
   ],
   "source": [
    "def f1(x):\n",
    "    return 10*x[0]-2*(x[1]**2)+x[1]-2*x[2]-5\n",
    "def f2(x):\n",
    "    return 8*(x[1]**2)+4*(x[2]**3)-9\n",
    "def f3(x):\n",
    "    return 8*x[1]*x[2]+4\n",
    "def j11(x):\n",
    "    return 10\n",
    "def j12(x):\n",
    "    return -4*x[1]+1\n",
    "def j13(x): \n",
    "    return -2\n",
    "def j21(x):\n",
    "    return 0\n",
    "def j22(x):\n",
    "    return 16*x[1]\n",
    "def j23(x):\n",
    "    return 8*x[2]\n",
    "def j31(x):\n",
    "    return 0\n",
    "def j32(x):\n",
    "    return 8*x[2]\n",
    "def j33(x):\n",
    "    return 8*x[1]\n",
    "\n",
    "n = 3\n",
    "tol = 10e-12\n",
    "N = 2\n",
    "\n",
    "f = np.array([f1,f2,f3])\n",
    "j = np.array([[j11,j12,j13],[j21,j22,j23],[j31,j32,j33]])\n",
    "x0 = np.array([0,0,0])\n",
    "\n",
    "x = Newton_Method_Systems(n,x0,tol,N)\n",
    "\n",
    "print(x)"
   ]
  },
  {
   "cell_type": "code",
   "execution_count": null,
   "metadata": {},
   "outputs": [],
   "source": []
  }
 ],
 "metadata": {
  "kernelspec": {
   "display_name": "Python 3",
   "language": "python",
   "name": "python3"
  },
  "language_info": {
   "codemirror_mode": {
    "name": "ipython",
    "version": 3
   },
   "file_extension": ".py",
   "mimetype": "text/x-python",
   "name": "python",
   "nbconvert_exporter": "python",
   "pygments_lexer": "ipython3",
   "version": "3.7.6"
  }
 },
 "nbformat": 4,
 "nbformat_minor": 2
}
