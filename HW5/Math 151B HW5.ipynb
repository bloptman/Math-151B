{
 "cells": [
  {
   "cell_type": "markdown",
   "metadata": {},
   "source": [
    "# Math 151B Homework No. 5\n",
    "\n",
    "- Brandon Loptman\n",
    "- UID: 604105043\n",
    "- March 3, 2020 "
   ]
  },
  {
   "cell_type": "code",
   "execution_count": 17,
   "metadata": {},
   "outputs": [],
   "source": [
    "#Importing all the necessay libraries.\n",
    "import numpy as np\n",
    "import matplotlib.pyplot as plt\n",
    "plt.style.use(\"ggplot\")"
   ]
  },
  {
   "cell_type": "code",
   "execution_count": 18,
   "metadata": {},
   "outputs": [],
   "source": [
    "def F(f,x,n):\n",
    "    \"\"\"\n",
    "    Evaluates an n dimensional array of functions f at a point x.\n",
    "    \"\"\"\n",
    "    fx = np.zeros([n,1])\n",
    "    \n",
    "    for i in range(n):\n",
    "        fx[i] = f[i](x)\n",
    "    \n",
    "    return fx\n",
    "\n",
    "def J(j,x,n):\n",
    "    \"\"\"\n",
    "    Evaluates an n x n matrix of functions j at a point x.\n",
    "    \"\"\"\n",
    "    jx = np.zeros([n,n])\n",
    "    \n",
    "    for i in range(n):\n",
    "        for k in range(n):\n",
    "            jx[i,k] = j[i,k](x)\n",
    "            \n",
    "    return jx"
   ]
  },
  {
   "cell_type": "markdown",
   "metadata": {},
   "source": [
    "## 10.3 Quasi-Newton Methods"
   ]
  },
  {
   "cell_type": "code",
   "execution_count": 19,
   "metadata": {},
   "outputs": [],
   "source": [
    "def BroydenMethod(n, x0, tol = 10e-6, N = 100):\n",
    "    \"\"\"\n",
    "    Implements Broyden's Method according to the algorithm in the book.\n",
    "    \"\"\"\n",
    "    x = x0.reshape((n,1))\n",
    "    \n",
    "    A0 = J(j,x,n)\n",
    "    v = F(f,x,n)\n",
    "    \n",
    "    A = np.linalg.inv(A0)\n",
    "    \n",
    "    s = -1*np.matmul(A,v)\n",
    "    x = x + s\n",
    "    k = 2\n",
    "    \n",
    "    while(k <= N):\n",
    "        w = v\n",
    "        v = F(f,x,n)\n",
    "        y = v - w\n",
    "        \n",
    "        z = -1*np.matmul(A,y)\n",
    "        \n",
    "        p = -1*np.matmul(np.transpose(s),z)\n",
    "        \n",
    "        ut = np.matmul(np.transpose(s),A)\n",
    "        \n",
    "        A = A + (1/p)*np.matmul((s+z),ut)\n",
    "        \n",
    "        s = -1*np.matmul(A,v)\n",
    "        x = x + s\n",
    "        \n",
    "        if(np.linalg.norm(s) < tol):\n",
    "            print(\"The procedure was successful!\")\n",
    "            return x\n",
    "        \n",
    "        k = k + 1\n",
    "    \n",
    "    print(\"Maximum number of iterations exceeded!\")\n",
    "    return x"
   ]
  },
  {
   "cell_type": "markdown",
   "metadata": {},
   "source": [
    "### 5.) \n",
    "\n",
    "#### (a.)  \n",
    "The given system of equations is:  \n",
    "\\begin{equation}\n",
    "    x_{1} (1-x_{1}) + 4 x_{2} - 12 = 0 \\\\\n",
    "    (x_{1} - 2)^{2} + (2 x_{2} - 3)^{2} -25 = 0\n",
    "\\end{equation}\n",
    "\n",
    "which has Jacobian given by:\n",
    "\n",
    "\\begin{equation}\n",
    "J(x) = \n",
    "\\begin{pmatrix}\n",
    "1 - 2 x_{1} & 4 \\\\\n",
    "2(x_{1} - 2) & 4(2 x_{2} - 3)\n",
    "\\end{pmatrix}\n",
    "\\end{equation}\n",
    "\n",
    "Performing Broyden's Method with $tol = 10^{-6}$ and $x^{(0)} = (2.5,4)^{T}$ we get:"
   ]
  },
  {
   "cell_type": "code",
   "execution_count": 35,
   "metadata": {},
   "outputs": [
    {
     "name": "stdout",
     "output_type": "stream",
     "text": [
      "The procedure was successful!\n",
      "[[2.54694647]\n",
      " [3.98499747]]\n"
     ]
    }
   ],
   "source": [
    "def f1(x):\n",
    "    return x[0]*(1-x[0]) + 4*x[1] - 12\n",
    "def f2(x):\n",
    "    return (x[0]-2)**2 + (2*x[1]-3)**2 - 25\n",
    "def j11(x):\n",
    "    return 1 - 2*x[0]\n",
    "def j12(x):\n",
    "    return 4\n",
    "def j21(x):\n",
    "    return 2*(x[0]-2)\n",
    "def j22(x):\n",
    "    return 4*(2*x[1]-3)\n",
    "\n",
    "f = np.array([f1,f2])\n",
    "j = np.array([[j11,j12],[j21,j22]])\n",
    "x0 = np.array([2.5,4])\n",
    "\n",
    "n = 2\n",
    "N = 100\n",
    "tol = 10e-6\n",
    "\n",
    "x = BroydenMethod(n,x0,tol,N)\n",
    "print(x)"
   ]
  },
  {
   "cell_type": "markdown",
   "metadata": {},
   "source": [
    "#### (b.) \n",
    "Following the same procedure as above we can approximate the solutions for the remaining systems of equations using Broyden's Method."
   ]
  },
  {
   "cell_type": "code",
   "execution_count": 30,
   "metadata": {},
   "outputs": [
    {
     "name": "stdout",
     "output_type": "stream",
     "text": [
      "The procedure was successful!\n",
      "[[0.12124195]\n",
      " [0.27110513]]\n"
     ]
    }
   ],
   "source": [
    "def f1(x):\n",
    "    return 5*(x[0]**2) - (x[1]**2)\n",
    "def f2(x):\n",
    "    return x[1] - 0.25*(np.sin(x[0]) + np.cos(x[1]))\n",
    "def j11(x):\n",
    "    return 10*x[0]\n",
    "def j12(x):\n",
    "    return -2*x[1]\n",
    "def j21(x):\n",
    "    return 0.25*np.cos(x[0])\n",
    "def j22(x):\n",
    "    return 1 + 0.25*np.sin([x[1]])\n",
    "\n",
    "f = np.array([f1,f2])\n",
    "j = np.array([[j11,j12],[j21,j22]])\n",
    "x0 = np.array([.1,.1])\n",
    "\n",
    "n = 2\n",
    "N = 100\n",
    "tol = 10e-6\n",
    "\n",
    "x = BroydenMethod(n,x0,tol,N)\n",
    "print(x)"
   ]
  },
  {
   "cell_type": "markdown",
   "metadata": {},
   "source": [
    "##### (c.)"
   ]
  },
  {
   "cell_type": "code",
   "execution_count": 37,
   "metadata": {},
   "outputs": [
    {
     "name": "stdout",
     "output_type": "stream",
     "text": [
      "The procedure was successful!\n",
      "[[1.03640046]\n",
      " [1.08570658]\n",
      " [0.93119146]]\n"
     ]
    }
   ],
   "source": [
    "def f1(x):\n",
    "    return 15*x[0] + x[1]**2 - 4*x[2] - 13\n",
    "def f2(x):\n",
    "    return x[0]**2 + 10*x[1] - x[2] - 11\n",
    "def f3(x):\n",
    "    return x[1]**3 - 25*x[2] + 22\n",
    "def j11(x):\n",
    "    return 15\n",
    "def j12(x):\n",
    "    return 2*x[1]\n",
    "def j13(x):\n",
    "    return -4\n",
    "def j21(x): \n",
    "    return 2*x[0]\n",
    "def j22(x):\n",
    "    return 10\n",
    "def j23(x):\n",
    "    return -1\n",
    "def j31(x):\n",
    "    return 0\n",
    "def j32(x):\n",
    "    return 3*(x[1]**2)\n",
    "def j33(x):\n",
    "    return -25\n",
    "\n",
    "f = np.array([f1,f2,f3])\n",
    "j = np.array([[j11,j12,j13],[j21,j22,j23],[j31,j32,j33]])\n",
    "x0 = np.array([0,0,0])\n",
    "\n",
    "n = 3\n",
    "N = 100\n",
    "tol = 10e-6\n",
    "\n",
    "x = BroydenMethod(n,x0,tol,N)\n",
    "print(x)"
   ]
  },
  {
   "cell_type": "markdown",
   "metadata": {},
   "source": [
    "##### (d.)"
   ]
  },
  {
   "cell_type": "code",
   "execution_count": 40,
   "metadata": {},
   "outputs": [
    {
     "name": "stdout",
     "output_type": "stream",
     "text": [
      "The procedure was successful!\n",
      "[[ 0.9]\n",
      " [-1. ]\n",
      " [ 0.5]]\n"
     ]
    }
   ],
   "source": [
    "def f1(x):\n",
    "    return 10*x[0] - 2*x[1]**2 + x[1] - 2*x[2] - 5\n",
    "def f2(x):\n",
    "    return 8*(x[1]**2) + 4*(x[2]**2) - 9\n",
    "def f3(x):\n",
    "    return 8*x[1]*x[2] + 4\n",
    "def j11(x):\n",
    "    return 10\n",
    "def j12(x):\n",
    "    return -4*x[1] + 1\n",
    "def j13(x):\n",
    "    return -2\n",
    "def j21(x): \n",
    "    return 0 \n",
    "def j22(x):\n",
    "    return 16*x[1]\n",
    "def j23(x):\n",
    "    return 8*x[2]\n",
    "def j31(x):\n",
    "    return 0\n",
    "def j32(x):\n",
    "    return 8*x[2]\n",
    "def j33(x):\n",
    "    return 8*x[1]\n",
    "\n",
    "f = np.array([f1,f2,f3])\n",
    "j = np.array([[j11,j12,j13],[j21,j22,j23],[j31,j32,j33]])\n",
    "x0 = np.array([1,-1,1])\n",
    "\n",
    "n = 3\n",
    "N = 100\n",
    "tol = 10e-6\n",
    "\n",
    "x = BroydenMethod(n,x0,tol,N)\n",
    "print(x)"
   ]
  },
  {
   "cell_type": "markdown",
   "metadata": {},
   "source": [
    "### Initally I did the wrong problem, so that's what these cells are..."
   ]
  },
  {
   "cell_type": "code",
   "execution_count": 4,
   "metadata": {},
   "outputs": [
    {
     "name": "stdout",
     "output_type": "stream",
     "text": [
      "Maximum number of iterations exceeded!\n",
      "[[0.47779201]\n",
      " [1.92741123]]\n"
     ]
    }
   ],
   "source": [
    "def f1(x):\n",
    "    return 4*(x[0]**2) - 20*x[0] + .25*(x[1]**2) + 8\n",
    "def f2(x):\n",
    "    return 0.5*x[0]*(x[1]**2) + 2*x[0] - 5*x[1] + 8\n",
    "def j11(x):\n",
    "    return 8*x[0] - 20\n",
    "def j12(x):\n",
    "    return 0.5*x[1]\n",
    "def j21(x): \n",
    "    return 0.5*x[1]**2 + 2\n",
    "def j22(x):\n",
    "    return x[0]*x[1] - 5\n",
    "\n",
    "f = np.array([f1,f2])\n",
    "j = np.array([[j11,j12],[j21,j22]])\n",
    "x0 = np.array([0,0])\n",
    "\n",
    "n = 2\n",
    "N = 2\n",
    "tol = 10e-6\n",
    "\n",
    "x = BroydenMethod(n,x0,tol,N)\n",
    "print(x)"
   ]
  },
  {
   "cell_type": "code",
   "execution_count": 5,
   "metadata": {},
   "outputs": [
    {
     "name": "stdout",
     "output_type": "stream",
     "text": [
      "Maximum number of iterations exceeded!\n",
      "[[-0.32500698]\n",
      " [-0.08035291]]\n"
     ]
    }
   ],
   "source": [
    "def f1(x):\n",
    "    return np.sin(4*np.pi*x[0]*x[1]) - 2*x[1] - x[0]\n",
    "def f2(x):\n",
    "    return ((4*np.pi-1)/(4*np.pi))*(np.exp(2*x[0])-np.exp(1)) + 4*np.exp(1)*(x[1]**2) - 2*np.exp(1)*x[0]\n",
    "def j11(x):\n",
    "    return 4*np.pi*x[1]*np.cos(4*np.pi*x[0]*x[1]) - 1\n",
    "def j12(x):\n",
    "    return 4*np.pi*x[0]*np.cos(4*np.pi*x[0]*x[1]) - 2\n",
    "def j21(x): \n",
    "    return ((4*np.pi-1)/(4*np.pi))*2*np.exp(2*x[0]) - 2*np.exp(1)\n",
    "def j22(x):\n",
    "    return 8*np.exp(1)*x[1]\n",
    "\n",
    "f = np.array([f1,f2])\n",
    "j = np.array([[j11,j12],[j21,j22]])\n",
    "x0 = np.array([0,0])\n",
    "\n",
    "n = 2\n",
    "tol = 10e-6\n",
    "N = 2\n",
    "\n",
    "x = BroydenMethod(n,x0,tol,N)\n",
    "print(x)"
   ]
  },
  {
   "cell_type": "code",
   "execution_count": 6,
   "metadata": {},
   "outputs": [
    {
     "name": "stdout",
     "output_type": "stream",
     "text": [
      "Maximum number of iterations exceeded!\n",
      "[[0.49266557]\n",
      " [0.79785841]]\n"
     ]
    }
   ],
   "source": [
    "def f1(x):\n",
    "    return 3*(x[0]**2)-(x[1]**2)\n",
    "def f2(x):\n",
    "    return 3*x[0]*(x[1]**2)-(x[0]**3)-1\n",
    "def j11(x):\n",
    "    return 6*x[0]\n",
    "def j12(x):\n",
    "    return 2*x[1]\n",
    "def j21(x): \n",
    "    return 3*(x[1]**2)-3*(x[0]**2)\n",
    "def j22(x):\n",
    "    return 6*x[0]*x[1]\n",
    "\n",
    "f = np.array([f1,f2])\n",
    "j = np.array([[j11,j12],[j21,j22]])\n",
    "x0 = np.array([1,1])\n",
    "\n",
    "n = 2\n",
    "tol = 10e-6\n",
    "N = 2\n",
    "\n",
    "x = BroydenMethod(n,x0,tol,N)\n",
    "print(x)"
   ]
  },
  {
   "cell_type": "code",
   "execution_count": 7,
   "metadata": {},
   "outputs": [
    {
     "name": "stdout",
     "output_type": "stream",
     "text": [
      "Maximum number of iterations exceeded!\n",
      "[[1.7794999 ]\n",
      " [1.74339606]]\n"
     ]
    }
   ],
   "source": [
    "def f1(x):\n",
    "    return np.log((x[0]**2)+(x[1]**2))-np.sin(x[0]*x[1])-np.log(2)-np.log(np.pi)\n",
    "def f2(x):\n",
    "    return np.exp(x[0]-x[1])+np.cos(x[0]*x[1])\n",
    "def j11(x):\n",
    "    return 2*x[0]/((x[0]**2)+(x[1]**2))-x[0]*np.cos(x[0]*x[1])\n",
    "def j12(x):\n",
    "    return 2*x[1]/((x[0]**2)+(x[1]**2))-x[1]*np.cos(x[0]*x[1])\n",
    "def j21(x): \n",
    "    return np.exp(x[0]-x[1])-x[1]*np.sin(x[0]*x[1])\n",
    "def j22(x):\n",
    "    return -1*np.exp(x[0]-x[1])-x[0]*np.sin(x[0]*x[1])\n",
    "\n",
    "f = np.array([f1,f2])\n",
    "j = np.array([[j11,j12],[j21,j22]])\n",
    "x0 = np.array([2,2])\n",
    "\n",
    "n = 2\n",
    "tol = 10e-6\n",
    "N = 2\n",
    "\n",
    "x = BroydenMethod(n,x0,tol,N)\n",
    "print(x)"
   ]
  },
  {
   "cell_type": "markdown",
   "metadata": {},
   "source": [
    "### 10.4 Steepest Descent Techniques "
   ]
  },
  {
   "cell_type": "code",
   "execution_count": 9,
   "metadata": {},
   "outputs": [],
   "source": [
    "def G(f):\n",
    "    \"\"\"\n",
    "    Computes the function g(x) as defined in the book.\n",
    "    \"\"\"\n",
    "    return np.sum(f**2)\n",
    "\n",
    "def Grad(J,F):\n",
    "    \"\"\"\n",
    "    Computes the gradient of g(x) using the Jacobian and F.\n",
    "    \"\"\"\n",
    "    n = F.shape[0]\n",
    "    g = 2*np.matmul(np.transpose(J),F)\n",
    "    return np.reshape(g,n)"
   ]
  },
  {
   "cell_type": "code",
   "execution_count": 10,
   "metadata": {},
   "outputs": [],
   "source": [
    "def SteepestDescent(n,x0,tol,N):\n",
    "    \"\"\"\n",
    "    Implements the Gradient Descent Algorithm according to the algorithm in the book.\n",
    "    \"\"\"\n",
    "    k = 1\n",
    "    x = x0\n",
    "    while(k <= N):\n",
    "        #print(k)\n",
    "        \n",
    "        g1 = G(F(f,x,n))\n",
    "        #print(\"g1 = \", g1)\n",
    "        \n",
    "        z = Grad(J(j,x,n),F(f,x,n))\n",
    "\n",
    "        z0 = np.linalg.norm(z)\n",
    "\n",
    "        if(z0 == 0):\n",
    "            print(\"Zero gradient!\")\n",
    "            return x\n",
    "        \n",
    "        z = z/z0\n",
    "        #print(\"z = \", z)\n",
    "        \n",
    "        a1 = 0\n",
    "        a3 = 1\n",
    "        \n",
    "        g3 = G(F(f,x-a3*z,n))\n",
    "        #print(\"g3 = \", g3)\n",
    "        \n",
    "        while(g3 >= g1):\n",
    "            a3 = 0.5*a3\n",
    "            g3 = G(F(f,x-a3*z,n))\n",
    "            \n",
    "            if(a3 < tol/2):\n",
    "                print(\"No likely imporvement...\")\n",
    "                return x\n",
    "            \n",
    "        a2 = 0.5*a3\n",
    "        \n",
    "        g2 = G(F(f,x-a2*z,n))\n",
    "        #print(\"g2 = \", g2)\n",
    "\n",
    "        \n",
    "        h1 = (g2-g1)/a2\n",
    "        h2 = (g3-g2)/(a3-a2)\n",
    "        h3 = (h2-h1)/a3\n",
    "        \n",
    "        #print(\"h1 = \", h1)\n",
    "        #print(\"h2 = \", h2)\n",
    "        #print(\"h3 = \", h3)\n",
    "\n",
    "        \n",
    "        a0 = 0.5*(a2-h1/h3)\n",
    "        g0 = G(F(f,x-a0*z,n))\n",
    "        \n",
    "        #print(\"a0 = \", a0)\n",
    "        #print(\"g0 = \", g0)\n",
    "\n",
    "        \n",
    "        if(g0 <= g3):\n",
    "            a = a0\n",
    "            g = g0\n",
    "        else:\n",
    "            a = a3\n",
    "            g = g3\n",
    "        \n",
    "        x = x -a*z\n",
    "        \n",
    "        if(np.abs(g-g1) < tol):\n",
    "            print(\"The procedure was successful!\")\n",
    "            return x\n",
    "        \n",
    "        k = k+1\n",
    "        \n",
    "    print(\"Maximum number of iterations exceeded!\")\n",
    "    return x"
   ]
  },
  {
   "cell_type": "markdown",
   "metadata": {},
   "source": [
    "#### 1.)\n",
    "\n",
    "##### (a.)"
   ]
  },
  {
   "cell_type": "code",
   "execution_count": 209,
   "metadata": {},
   "outputs": [
    {
     "name": "stdout",
     "output_type": "stream",
     "text": [
      "No likely imporvement...\n",
      "[0.48036371 1.93817088]\n"
     ]
    }
   ],
   "source": [
    "def f1(x):\n",
    "    return 4*(x[0]**2) - 20*x[0] + 0.25*(x[1]**2) + 8\n",
    "def f2(x):\n",
    "    return 0.5*x[0]*(x[1]**2) + 2*x[0] - 5*x[1] + 8\n",
    "def j11(x):\n",
    "    return 8*x[0] - 20\n",
    "def j12(x):\n",
    "    return 0.5*x[1]\n",
    "def j21(x): \n",
    "    return 0.5*(x[1]**2) + 2\n",
    "def j22(x):\n",
    "    return x[0]*x[1] - 5\n",
    "\n",
    "\n",
    "f = np.array([f1,f2])\n",
    "j = np.array([[j11,j12],[j21,j22]])\n",
    "x0 = np.array([0,0])\n",
    "\n",
    "n = 2\n",
    "N = 20\n",
    "tol = .05\n",
    "\n",
    "x = SteepestDescent(n,x0,tol,N)\n",
    "print(x)"
   ]
  },
  {
   "cell_type": "markdown",
   "metadata": {},
   "source": [
    "##### (b.)"
   ]
  },
  {
   "cell_type": "code",
   "execution_count": 16,
   "metadata": {},
   "outputs": [
    {
     "name": "stdout",
     "output_type": "stream",
     "text": [
      "The procedure was successful!\n",
      "[0.49981677 0.8658462 ]\n"
     ]
    }
   ],
   "source": [
    "def f1(x):\n",
    "    return 3*(x[0]**2)-(x[1]**2)\n",
    "def f2(x):\n",
    "    return 3*x[0]*(x[1]**2)-(x[0]**3)-1\n",
    "def j11(x):\n",
    "    return 6*x[0]\n",
    "def j12(x):\n",
    "    return 2*x[1]\n",
    "def j21(x): \n",
    "    return 3*(x[1]**2)-3*(x[0]**2)\n",
    "def j22(x):\n",
    "    return 6*x[0]*x[1]\n",
    "\n",
    "f = np.array([f1,f2])\n",
    "j = np.array([[j11,j12],[j21,j22]])\n",
    "x0 = np.array([1,1])\n",
    "\n",
    "n = 2\n",
    "N = 20\n",
    "tol = .05\n",
    "\n",
    "x = SteepestDescent(n,x0,tol,N)\n",
    "print(x)"
   ]
  },
  {
   "cell_type": "markdown",
   "metadata": {},
   "source": [
    "##### (c.)"
   ]
  },
  {
   "cell_type": "code",
   "execution_count": 211,
   "metadata": {},
   "outputs": [
    {
     "name": "stdout",
     "output_type": "stream",
     "text": [
      "The procedure was successful!\n",
      "[1.76475919 1.79229801]\n"
     ]
    }
   ],
   "source": [
    "def f1(x):\n",
    "    return np.log((x[0]**2)+(x[1]**2))-np.sin(x[0]*x[1])-np.log(2)-np.log(np.pi)\n",
    "def f2(x):\n",
    "    return np.exp(x[0]-x[1])+np.cos(x[0]*x[1])\n",
    "def j11(x):\n",
    "    return 2*x[0]/((x[0]**2)+(x[1]**2))-x[0]*np.cos(x[0]*x[1])\n",
    "def j12(x):\n",
    "    return 2*x[1]/((x[0]**2)+(x[1]**2))-x[1]*np.cos(x[0]*x[1])\n",
    "def j21(x): \n",
    "    return np.exp(x[0]-x[1])-x[1]*np.sin(x[0]*x[1])\n",
    "def j22(x):\n",
    "    return -1*np.exp(x[0]-x[1])-x[0]*np.sin(x[0]*x[1])\n",
    "\n",
    "f = np.array([f1,f2])\n",
    "j = np.array([[j11,j12],[j21,j22]])\n",
    "x0 = np.array([2,2])\n",
    "\n",
    "n = 2\n",
    "N = 20\n",
    "tol = .05\n",
    "\n",
    "x = SteepestDescent(n,x0,tol,N)\n",
    "print(x)"
   ]
  },
  {
   "cell_type": "markdown",
   "metadata": {},
   "source": [
    "##### (d.)"
   ]
  },
  {
   "cell_type": "code",
   "execution_count": 212,
   "metadata": {},
   "outputs": [
    {
     "name": "stdout",
     "output_type": "stream",
     "text": [
      "No likely imporvement...\n",
      "[-0.36100921  0.05788368]\n"
     ]
    }
   ],
   "source": [
    "def f1(x):\n",
    "    return np.sin(4*np.pi*x[0]*x[1]) - 2*x[1] - x[0]\n",
    "def f2(x):\n",
    "    return ((4*np.pi-1)/(4*np.pi))*(np.exp(2*x[0])-np.exp(1)) + 4*np.exp(1)*(x[1]**2) - 2*np.exp(1)*x[0]\n",
    "def j11(x):\n",
    "    return 4*np.pi*x[1]*np.cos(4*np.pi*x[0]*x[1]) - 1\n",
    "def j12(x):\n",
    "    return 4*np.pi*x[0]*np.cos(4*np.pi*x[0]*x[1]) - 2\n",
    "def j21(x): \n",
    "    return ((4*np.pi-1)/(4*np.pi))*2*np.exp(2*x[0]) - 2*np.exp(1)\n",
    "def j22(x):\n",
    "    return 8*np.exp(1)*x[1]\n",
    "\n",
    "f = np.array([f1,f2])\n",
    "j = np.array([[j11,j12],[j21,j22]])\n",
    "x0 = np.array([0,0])\n",
    "\n",
    "n = 2\n",
    "N = 20\n",
    "tol = .05\n",
    "\n",
    "x = SteepestDescent(n,x0,tol,N)\n",
    "print(x)"
   ]
  },
  {
   "cell_type": "markdown",
   "metadata": {},
   "source": [
    "### 10.5 Homotopy and Continuation Methods"
   ]
  },
  {
   "cell_type": "code",
   "execution_count": 93,
   "metadata": {},
   "outputs": [],
   "source": [
    "def ContinuationMethod(n,x0,N,method = \"RK4\"):\n",
    "    \"\"\"\n",
    "    Implements the Continuation Method according to the algorithm in the book.\n",
    "    Has the option to use either RK4 of Euler's Method to solve the system of ODEs.\n",
    "    \"\"\"\n",
    "    x = x0\n",
    "    h = 1.0/N\n",
    "    #print(h)\n",
    "    b = -1*h*F(f,x,n)\n",
    "    #print(b)\n",
    "    \n",
    "    if(method == \"RK4\"):\n",
    "        for i in range(N):\n",
    "            A = J(j,x,n)\n",
    "            #print(\"A = \", A)\n",
    "            k1 = np.reshape(np.linalg.solve(A,b),n)\n",
    "            #print(\"k1 = \", k1)\n",
    "\n",
    "            A = J(j,(x+0.5*k1),n)\n",
    "            #print(\"A = \", A)\n",
    "            k2 = np.reshape(np.linalg.solve(A,b),n)\n",
    "            #print(\"k2 = \", k2)\n",
    "\n",
    "\n",
    "            A = J(j,x+0.5*k2,n)\n",
    "            #print(\"A = \", A)\n",
    "            k3 = np.reshape(np.linalg.solve(A,b),n)\n",
    "            #print(\"k3 = \", k3)\n",
    "\n",
    "\n",
    "            A = J(j,x+k3,n)\n",
    "            #print(\"A = \", A)\n",
    "            k4 = np.reshape(np.linalg.solve(A,b),n)\n",
    "            #print(\"k4 = \", k4)\n",
    "\n",
    "\n",
    "            x = x + (k1+2*k2+2*k3+k4)/6\n",
    "            #print(\"iteration \", i, \": \", x)\n",
    "\n",
    "        return x\n",
    "    \n",
    "    if(method == \"Euler\"):\n",
    "        for i in range(N):\n",
    "            A = J(j,x,n)\n",
    "            k = np.reshape(np.linalg.solve(A,b),n)\n",
    "            x = x + k\n",
    "            \n",
    "        return x        "
   ]
  },
  {
   "cell_type": "markdown",
   "metadata": {},
   "source": [
    "#### 1.)"
   ]
  },
  {
   "cell_type": "code",
   "execution_count": 107,
   "metadata": {},
   "outputs": [],
   "source": [
    "def f1(x):\n",
    "    return (x[0]**2) - (x[1]**2) + 2*x[1]\n",
    "def f2(x):\n",
    "    return 2*x[0] + (x[1]**2) - 6\n",
    "def j11(x):\n",
    "    return 2*x[0]\n",
    "def j12(x):\n",
    "    return -2*x[1] + 2\n",
    "def j21(x): \n",
    "    return 2\n",
    "def j22(x):\n",
    "    return 2*x[1]\n",
    "\n",
    "f = np.array([f1,f2])\n",
    "j = np.array([[j11,j12],[j21,j22]])\n",
    "x0_list = np.array([[0,0],[1,1],[3,-2]])\n",
    "\n",
    "#print(F(f,x0,n))\n",
    "#print(J(j,x0,n))"
   ]
  },
  {
   "cell_type": "code",
   "execution_count": 119,
   "metadata": {},
   "outputs": [
    {
     "name": "stdout",
     "output_type": "stream",
     "text": [
      "x0 =  [0 0]\n",
      "x =  [ 3.   -2.25] \n",
      "\n",
      "x0 =  [1 1]\n",
      "x =  [0.42105263 2.61842105] \n",
      "\n",
      "x0 =  [ 3 -2]\n",
      "x =  [ 2.17310981 -1.36277308] \n",
      "\n"
     ]
    }
   ],
   "source": [
    "n = 2\n",
    "N = 2\n",
    "\n",
    "for i in range(3):\n",
    "    x0 = x0_list[i]\n",
    "    x = ContinuationMethod(n,x0,N,\"Euler\")\n",
    "    print(\"x0 = \", x0)\n",
    "    print(\"x = \", x,\"\\n\")"
   ]
  },
  {
   "cell_type": "code",
   "execution_count": 118,
   "metadata": {},
   "outputs": [
    {
     "name": "stdout",
     "output_type": "stream",
     "text": [
      "x0 = [0 0]\n",
      "x =  [ 2.30398796 -2.00109948] \n",
      "\n",
      "x0 = [1 1]\n",
      "x =  [0.59709702 2.25796842] \n",
      "\n",
      "x0 = [ 3 -2]\n",
      "x =  [ 2.10944599 -1.33456326] \n",
      "\n"
     ]
    }
   ],
   "source": [
    "n = 2\n",
    "N = 1\n",
    "\n",
    "for i in range(3):\n",
    "    x0 = x0_list[i]\n",
    "    x = ContinuationMethod(n,x0,N,\"RK4\")\n",
    "    print(\"x0 =\", x0)\n",
    "    print(\"x = \", x,\"\\n\")"
   ]
  }
 ],
 "metadata": {
  "kernelspec": {
   "display_name": "Python 3",
   "language": "python",
   "name": "python3"
  },
  "language_info": {
   "codemirror_mode": {
    "name": "ipython",
    "version": 3
   },
   "file_extension": ".py",
   "mimetype": "text/x-python",
   "name": "python",
   "nbconvert_exporter": "python",
   "pygments_lexer": "ipython3",
   "version": "3.7.6"
  }
 },
 "nbformat": 4,
 "nbformat_minor": 2
}
