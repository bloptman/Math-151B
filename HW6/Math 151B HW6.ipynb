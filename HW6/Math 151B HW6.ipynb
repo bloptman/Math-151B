{
 "cells": [
  {
   "cell_type": "markdown",
   "metadata": {},
   "source": [
    "# Math 151B Homework No. 6\n",
    "\n",
    "* Brandon Loptman  \n",
    "* UID: 604105043  \n",
    "* March 10, 2020  "
   ]
  },
  {
   "cell_type": "code",
   "execution_count": 1,
   "metadata": {},
   "outputs": [],
   "source": [
    "import numpy as np\n",
    "import matplotlib.pyplot as plt\n",
    "import scipy.linalg as la"
   ]
  },
  {
   "cell_type": "markdown",
   "metadata": {},
   "source": [
    "### 9.3 The Power Method\n",
    "\n",
    "#### 8.)"
   ]
  },
  {
   "cell_type": "code",
   "execution_count": 2,
   "metadata": {},
   "outputs": [],
   "source": [
    "def PowerMethod(A,x,n,tol=10e-4, N=25):\n",
    "    \"\"\"\n",
    "    Implements the Power Method as described by the algorithm in the textbook.\n",
    "    \"\"\"\n",
    "    k = 1\n",
    "    \n",
    "    xp = np.max(abs(x))\n",
    "    x = x/xp\n",
    "    \n",
    "    while(k <= N):\n",
    "        #print(k)\n",
    "        y = A.dot(x)\n",
    "        \n",
    "        yp = np.max(np.abs(y))\n",
    "        u = yp\n",
    "        #print(u)\n",
    "        \n",
    "        if(yp == 0):\n",
    "            print(\"A has eigenvalue 0, select a new vector x and restart.\")\n",
    "            return x\n",
    "        \n",
    "        err = np.max(np.abs(x-(y/yp)))\n",
    "        \n",
    "        x = y/yp\n",
    "        #print(x)\n",
    "        \n",
    "        if(err < tol):\n",
    "            print(\"The procedure was successful!\")\n",
    "            return u,x\n",
    "        \n",
    "        k = k + 1\n",
    "        \n",
    "    print(\"The maximum number of iterations exceeded! The procedure was unsuccessful.\")\n",
    "    return u,x"
   ]
  },
  {
   "cell_type": "markdown",
   "metadata": {},
   "source": [
    "#### (a.)"
   ]
  },
  {
   "cell_type": "markdown",
   "metadata": {},
   "source": [
    "We want to find the dominant eignevalue and correspodning eigenvector of the matrix\n",
    "\n",
    "\\begin{pmatrix}\n",
    "    4 & 2 & 1\\\\\n",
    "    0 & 3 & 2\\\\\n",
    "    1 & 1 & 4\\\\\n",
    "\\end{pmatrix}\n",
    "\n",
    "using the Power Method."
   ]
  },
  {
   "cell_type": "code",
   "execution_count": 3,
   "metadata": {},
   "outputs": [
    {
     "name": "stdout",
     "output_type": "stream",
     "text": [
      "The procedure was successful!\n",
      "Eigenvalue:  5.915862109849257\n",
      "Eigenvetor:  [1.         0.55415425 0.80959966]\n"
     ]
    }
   ],
   "source": [
    "A1 = np.array([[4,2,1],[0,3,2],[1,1,4]])\n",
    "x1 = np.array([1,2,1])\n",
    "n1 = 3\n",
    "\n",
    "u,v = PowerMethod(A1,x1,n1)\n",
    "\n",
    "print(\"Eigenvalue: \", u)\n",
    "print(\"Eigenvetor: \", v)"
   ]
  },
  {
   "cell_type": "markdown",
   "metadata": {},
   "source": [
    "We find that the dominant eigenvalue is $\\lambda \\approx 5.91586$ which corresponds to the eigenvector $\\vec{v} \\approx (1, 0.55415, .80960)^{T}$"
   ]
  },
  {
   "cell_type": "markdown",
   "metadata": {},
   "source": [
    "#### (b.)"
   ]
  },
  {
   "cell_type": "code",
   "execution_count": 4,
   "metadata": {},
   "outputs": [
    {
     "name": "stdout",
     "output_type": "stream",
     "text": [
      "The procedure was successful!\n",
      "Eigenvalue:  5.666647958421926\n",
      "Eigenvetor:  [0.0554278  0.25788625 1.         0.88873413]\n"
     ]
    }
   ],
   "source": [
    "A2 = np.array([[1,1,0,0],[1,2,0,1],[0,0,3,3],[0,1,3,2]])\n",
    "x2 = np.array([1,1,0,1])\n",
    "n2 = 4\n",
    "\n",
    "u,v = PowerMethod(A2,x2,n2)\n",
    "\n",
    "print(\"Eigenvalue: \", u)\n",
    "print(\"Eigenvetor: \", v)"
   ]
  },
  {
   "cell_type": "markdown",
   "metadata": {},
   "source": [
    "#### (c.)"
   ]
  },
  {
   "cell_type": "code",
   "execution_count": 5,
   "metadata": {},
   "outputs": [
    {
     "name": "stdout",
     "output_type": "stream",
     "text": [
      "The procedure was successful!\n",
      "Eigenvalue:  8.996446247045956\n",
      "Eigenvetor:  [-0.99903998  0.9990224   0.9999824  -1.        ]\n"
     ]
    }
   ],
   "source": [
    "A3 = np.array([[5,-2,-0.5,1.5],[-2,5,1.5,-0.5],[-0.5,1.5,5,-2],[1.5,-0.5,-2,5]])\n",
    "x3 = np.array([1,1,0,-3])\n",
    "n3 = 4\n",
    "\n",
    "u,v = PowerMethod(A3,x3,n3)\n",
    "\n",
    "print(\"Eigenvalue: \", u)\n",
    "print(\"Eigenvetor: \", v)"
   ]
  },
  {
   "cell_type": "markdown",
   "metadata": {},
   "source": [
    "#### (d.)"
   ]
  },
  {
   "cell_type": "code",
   "execution_count": 6,
   "metadata": {},
   "outputs": [
    {
     "name": "stdout",
     "output_type": "stream",
     "text": [
      "The maximum number of iterations exceeded! The procedure was unsuccessful.\n",
      "Eigenvalue:  4.1202713104915745\n",
      "Eigenvetor:  [0.10396255 0.07624767 0.01441345 1.        ]\n"
     ]
    }
   ],
   "source": [
    "A4 = np.array([[-4,0,0.5,0.5],[0.5,-2,0,0.5],[0.5,0.5,0,0],[0,1,1,4]])\n",
    "x4 = np.array([0,0,0,1])\n",
    "n4 = 4\n",
    "\n",
    "u,v = PowerMethod(A4,x4,n4)\n",
    "\n",
    "print(\"Eigenvalue: \", u)\n",
    "print(\"Eigenvetor: \", v)"
   ]
  },
  {
   "cell_type": "markdown",
   "metadata": {},
   "source": [
    "#### 10.)"
   ]
  },
  {
   "cell_type": "code",
   "execution_count": 7,
   "metadata": {},
   "outputs": [],
   "source": [
    "def InversePowerMethod(A,x,n,tol=10e-4,N=25):\n",
    "    \"\"\"\n",
    "    Implements the Inverse Power Method as described by the algorithm in the textbook.\n",
    "    \"\"\"\n",
    "    q = (np.transpose(x)).dot(A.dot(x))/(np.transpose(x)).dot(x)\n",
    "    #print(\"q = \", q)\n",
    "    \n",
    "    k = 1\n",
    "    \n",
    "    xp = np.max(abs(x))\n",
    "    x = x/xp\n",
    "    \n",
    "    qI = np.identity(n)*q\n",
    "    \n",
    "    while(k <= N):\n",
    "        #print(k)\n",
    "        \n",
    "        y = np.linalg.solve(A-qI,x)\n",
    "        #print(y)\n",
    "        \n",
    "        p = np.argmax(np.abs(y))\n",
    "        yp = y[p]\n",
    "        \n",
    "        u = yp\n",
    "        #print(\"u = \", u)\n",
    "        \n",
    "        err = np.max(np.abs(x-(y/yp)))\n",
    "        x = y/yp\n",
    "        #print(x)\n",
    "        \n",
    "        if(err < tol):\n",
    "            u = (1/yp) + q\n",
    "            #print(\"u = \", u)\n",
    "            \n",
    "            print(\"The procedure was successful!\")\n",
    "            return u,x\n",
    "        \n",
    "        k = k + 1\n",
    "        \n",
    "    print(\"The maximum number of iterations exceeded! The procedure was unsuccessful.\")\n",
    "    return u,x"
   ]
  },
  {
   "cell_type": "markdown",
   "metadata": {},
   "source": [
    "#### (a.)\n",
    "\n",
    "Now, we compute the Inverse Power Method to compute the dominant eigenvalues and corresponding eigenvectors for the same matricies from the previous problem."
   ]
  },
  {
   "cell_type": "code",
   "execution_count": 8,
   "metadata": {},
   "outputs": [
    {
     "name": "stdout",
     "output_type": "stream",
     "text": [
      "The procedure was successful!\n",
      "Eigenvalue:  5.91952739334497\n",
      "Eigenvetor:  [1.         0.55480496 0.80991748]\n"
     ]
    }
   ],
   "source": [
    "u,v = InversePowerMethod(A1,x1,n1)\n",
    "\n",
    "print(\"Eigenvalue: \", u)\n",
    "print(\"Eigenvetor: \", v)"
   ]
  },
  {
   "cell_type": "markdown",
   "metadata": {},
   "source": [
    "#### (b.)"
   ]
  },
  {
   "cell_type": "code",
   "execution_count": 9,
   "metadata": {},
   "outputs": [
    {
     "name": "stdout",
     "output_type": "stream",
     "text": [
      "The procedure was successful!\n",
      "Eigenvalue:  2.6459223598633343\n",
      "Eigenvetor:  [ 0.60757625  1.         -0.32509997  0.03834611]\n"
     ]
    }
   ],
   "source": [
    "u,v = InversePowerMethod(A2,x2,n2)\n",
    "\n",
    "print(\"Eigenvalue: \", u)\n",
    "print(\"Eigenvetor: \", v)"
   ]
  },
  {
   "cell_type": "markdown",
   "metadata": {},
   "source": [
    "#### (c.)"
   ]
  },
  {
   "cell_type": "code",
   "execution_count": 10,
   "metadata": {},
   "outputs": [
    {
     "name": "stdout",
     "output_type": "stream",
     "text": [
      "The procedure was successful!\n",
      "Eigenvalue:  3.999973870192454\n",
      "Eigenvetor:  [0.99999843 0.99993845 1.         0.99993999]\n"
     ]
    }
   ],
   "source": [
    "u,v = InversePowerMethod(A3,x3,n3)\n",
    "\n",
    "print(\"Eigenvalue: \", u)\n",
    "print(\"Eigenvetor: \", v)"
   ]
  },
  {
   "cell_type": "markdown",
   "metadata": {},
   "source": [
    "#### (d.)"
   ]
  },
  {
   "cell_type": "code",
   "execution_count": 11,
   "metadata": {},
   "outputs": [
    {
     "name": "stdout",
     "output_type": "stream",
     "text": [
      "The procedure was successful!\n",
      "Eigenvalue:  4.105293014436679\n",
      "Eigenvetor:  [0.06281419 0.08704089 0.01825213 1.        ]\n"
     ]
    }
   ],
   "source": [
    "u,v = InversePowerMethod(A4,x4,n4)\n",
    "\n",
    "print(\"Eigenvalue: \", u)\n",
    "print(\"Eigenvetor: \", v)"
   ]
  },
  {
   "cell_type": "markdown",
   "metadata": {},
   "source": [
    "### 9.4 Householder's Method\n",
    "\n",
    "#### 1.)"
   ]
  },
  {
   "cell_type": "code",
   "execution_count": 12,
   "metadata": {},
   "outputs": [],
   "source": [
    "def HouseholderMethod(A,n):\n",
    "    \"\"\"\n",
    "    Implements Householder's Method as described by the algorithm in the textbook.\n",
    "    \"\"\"\n",
    "\n",
    "    for k in range(0,n-1):\n",
    "        #print(\"k = \", k)\n",
    "        \n",
    "        u = np.zeros(n)\n",
    "        v = np.zeros(n)\n",
    "        z = np.zeros(n)\n",
    "        q = 0\n",
    "        \n",
    "        for j in range(k+1,n):\n",
    "            #print(A[j,k])\n",
    "            q = q + (A[j,k]**2)\n",
    "        \n",
    "        #print(\"q = \", q)\n",
    "        #print(\"A[k+1,k] = \",A[k+1,k])\n",
    "        if(np.abs(A[k+1,k]) <= 10e-20):\n",
    "            alpha = -1*np.sqrt(q)\n",
    "        else:\n",
    "            alpha = -1*(np.sqrt(q)*A[k+1,k]/np.abs(A[k+1,k]))\n",
    "        \n",
    "        #print(\"alpha = \",alpha)\n",
    "        \n",
    "        RSQ = (alpha**2) - alpha*A[k+1,k]\n",
    "        if(RSQ == 0):\n",
    "            RSQ = 10e-10\n",
    "        #print(\"RSQ = \", RSQ)\n",
    "        \n",
    "        v[k] = 0\n",
    "        v[k+1] = A[k+1,k] - alpha\n",
    "        #print(A[k+1,k])\n",
    "        \n",
    "        #print(\"v = \", v)\n",
    "        \n",
    "        for j in range(k+2,n):\n",
    "            #print(\"j = \", j)\n",
    "            v[j] = A[j,k]\n",
    "            \n",
    "        #print(\"v = \", v)\n",
    "\n",
    "        for j in range(k,n):\n",
    "            #print(\"j = \", j)\n",
    "            #print(\"--------------\")\n",
    "            for i in range(k+1,n):\n",
    "                #print(\"i = \", i)\n",
    "                #print(\"A[j,i] = \", A[j,i])\n",
    "                #print(\"v[i] = \", v[i])\n",
    "                u[j] = u[j] + A[j,i]*v[i]\n",
    "            #print(\"--------------\")\n",
    "            #u[j] = u[j]/RSQ\n",
    "        \n",
    "        u = u/RSQ\n",
    "        #print(\"u = \", u)\n",
    "        \n",
    "        PROD = 0\n",
    "        for i in range(k+1,n):\n",
    "            #print(\"i = \", i)\n",
    "            PROD = PROD + (v[i]*u[i])\n",
    "            \n",
    "        #print(\"PROD = \", PROD)\n",
    "        \n",
    "        for j in range(k,n):\n",
    "            #print(\"j = \", j)\n",
    "            z[j] = u[j] - ((PROD/(2*RSQ))*v[j])\n",
    "        #print(\"z = \", z)\n",
    "            \n",
    "        for l in range(k+1,n-1):\n",
    "            #print(\"l = \", l)\n",
    "            for j in range(l+1,n):\n",
    "                #print(\"j = \", j)\n",
    "                A[j,l] = A[j,l] - v[l]*z[j] - v[j]*z[l]\n",
    "                A[l,j] = A[j,l]\n",
    "                \n",
    "            A[l,l] = A[l,l] - 2*v[l]*z[l]\n",
    "            \n",
    "        A[n-1,n-1] = A[n-1,n-1] - 2*v[n-1]*z[n-1]\n",
    "        \n",
    "        for j in range(k+2,n):\n",
    "            #print(\"j = \", j)\n",
    "            A[k,j] = 0\n",
    "            A[j,k] = 0\n",
    "            \n",
    "        A[k+1,k] = A[k+1,k] - (v[k+1]*z[k])\n",
    "        A[k,k+1] = A[k+1,k]\n",
    "        \n",
    "        #print(A)\n",
    "                \n",
    "    return A"
   ]
  },
  {
   "cell_type": "markdown",
   "metadata": {},
   "source": [
    "#### (a.)"
   ]
  },
  {
   "cell_type": "code",
   "execution_count": 13,
   "metadata": {},
   "outputs": [
    {
     "name": "stdout",
     "output_type": "stream",
     "text": [
      "[[ 12 -10   0]\n",
      " [-10   3  -5]\n",
      " [  0  -5   7]]\n"
     ]
    }
   ],
   "source": [
    "A1 = np.array([[12,10,4],[10,8,-5],[4,-5,3]])\n",
    "n = 3\n",
    "\n",
    "D = HouseholderMethod(A1,n)\n",
    "print(D)"
   ]
  },
  {
   "cell_type": "markdown",
   "metadata": {},
   "source": [
    "For some reason this is missing the decimal portion of the matrix elements. The interger parts match up with the solution given in the textbook."
   ]
  },
  {
   "cell_type": "markdown",
   "metadata": {},
   "source": [
    "Both (b.) and (c.) do not match well with the solution given in the textbook. There is some issue with dividing by zero, but I'm not sure if it's an issue with my code or the problem is in the algorithm as stated in the textbook. Even when comparing my code with the MATLAB code on the publisher's website I can't find the error."
   ]
  },
  {
   "cell_type": "markdown",
   "metadata": {},
   "source": [
    "#### (b.)"
   ]
  },
  {
   "cell_type": "code",
   "execution_count": 14,
   "metadata": {},
   "outputs": [
    {
     "name": "stdout",
     "output_type": "stream",
     "text": [
      "[[2 1 0]\n",
      " [1 0 0]\n",
      " [0 0 2]]\n"
     ]
    }
   ],
   "source": [
    "A2 = np.array([[2,-1,-1],[-1,2,-1],[-1,-1,2]])\n",
    "\n",
    "D = HouseholderMethod(A2,n)\n",
    "print(D)"
   ]
  },
  {
   "cell_type": "markdown",
   "metadata": {},
   "source": [
    "#### (c.)"
   ]
  },
  {
   "cell_type": "code",
   "execution_count": 15,
   "metadata": {},
   "outputs": [
    {
     "name": "stdout",
     "output_type": "stream",
     "text": [
      "[[ 1 -1  0]\n",
      " [-1  0  0]\n",
      " [ 0  0  0]]\n"
     ]
    }
   ],
   "source": [
    "A3 = np.array([[1,1,1],[1,1,0],[1,0,1]])\n",
    "\n",
    "D = HouseholderMethod(A3,n)\n",
    "print(D)"
   ]
  },
  {
   "cell_type": "markdown",
   "metadata": {},
   "source": [
    "#### (d.)"
   ]
  },
  {
   "cell_type": "code",
   "execution_count": 16,
   "metadata": {},
   "outputs": [
    {
     "name": "stdout",
     "output_type": "stream",
     "text": [
      "[[ 4.75       -2.26384628  0.        ]\n",
      " [-2.26384628  4.47560976  1.2195122 ]\n",
      " [ 0.          1.2195122   5.02439024]]\n"
     ]
    }
   ],
   "source": [
    "A4 = np.array([[4.75,2.25,-0.25],[2.25,4.75,1.25],[-0.25,1.25,4.75]])\n",
    "\n",
    "D = HouseholderMethod(A4,n)\n",
    "print(D)"
   ]
  },
  {
   "cell_type": "markdown",
   "metadata": {},
   "source": [
    "This is matches up well with the solution in the textbook."
   ]
  }
 ],
 "metadata": {
  "kernelspec": {
   "display_name": "Python 3",
   "language": "python",
   "name": "python3"
  },
  "language_info": {
   "codemirror_mode": {
    "name": "ipython",
    "version": 3
   },
   "file_extension": ".py",
   "mimetype": "text/x-python",
   "name": "python",
   "nbconvert_exporter": "python",
   "pygments_lexer": "ipython3",
   "version": "3.7.6"
  }
 },
 "nbformat": 4,
 "nbformat_minor": 2
}
